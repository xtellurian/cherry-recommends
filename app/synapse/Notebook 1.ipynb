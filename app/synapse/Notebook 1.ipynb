{
    "nbformat": 4,
    "nbformat_minor": 2,
    "metadata": {
        "save_output": true,
        "synapse_widget": {
            "version": "0.1",
            "state": {}
        },
        "kernelspec": {
            "name": "synapse_pyspark",
            "display_name": "python"
        },
        "language_info": {
            "name": "python"
        }
    },
    "cells": [
        {
            "execution_count": null,
            "cell_type": "code",
            "metadata": {},
            "source": [
                ""
            ],
            "outputs": []
        }
    ]
}