{
 "cells": [
  {
   "cell_type": "markdown",
   "id": "b033d1f4",
   "metadata": {},
   "source": [
    "# How to connect your machine to Azure Machine Learning"
   ]
  },
  {
   "cell_type": "markdown",
   "id": "7e385dd8",
   "metadata": {},
   "source": [
    "* Explain the concepts in AML\n",
    "* Connect to a workspace\n",
    "* Reference a data set"
   ]
  },
  {
   "cell_type": "code",
   "execution_count": null,
   "id": "93d59895",
   "metadata": {},
   "outputs": [],
   "source": []
  }
 ],
 "metadata": {
  "kernelspec": {
   "display_name": "Python 3",
   "language": "python",
   "name": "python3"
  },
  "language_info": {
   "codemirror_mode": {
    "name": "ipython",
    "version": 3
   },
   "file_extension": ".py",
   "mimetype": "text/x-python",
   "name": "python",
   "nbconvert_exporter": "python",
   "pygments_lexer": "ipython3",
   "version": "3.7.10"
  }
 },
 "nbformat": 4,
 "nbformat_minor": 5
}
