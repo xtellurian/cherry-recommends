{
 "cells": [
  {
   "cell_type": "markdown",
   "id": "5e3cd8e3",
   "metadata": {},
   "source": [
    "# Deploying a Model using Azure Machine Learning"
   ]
  },
  {
   "cell_type": "markdown",
   "id": "c91b3b31",
   "metadata": {},
   "source": [
    "The steps to deploy any model are:\n",
    "\n",
    "1. Register the model\n",
    "2. Prepare an entry script\n",
    "3. Prepare an inference configuration and a deployment configuration\n",
    "4. Deploy the model locally to ensure everything works\n",
    "5. Choose a compute target.\n",
    "6. Re-deploy the model to the cloud\n",
    "7. Test the resulting web service.\n",
    "\n",
    "\n",
    "[You can learn more by reading these official docs](https://docs.microsoft.com/en-us/azure/machine-learning/how-to-deploy-and-where)"
   ]
  },
  {
   "cell_type": "markdown",
   "id": "a4f6f481",
   "metadata": {},
   "source": [
    "## 0. Connect to AML"
   ]
  },
  {
   "cell_type": "code",
   "execution_count": 1,
   "id": "03f048f2",
   "metadata": {},
   "outputs": [
    {
     "name": "stderr",
     "output_type": "stream",
     "text": [
      "Warning: Falling back to use azure cli login credentials.\n",
      "If you run your code in unattended mode, i.e., where you can't give a user input, then we recommend to use ServicePrincipalAuthentication or MsiAuthentication.\n",
      "Please refer to aka.ms/aml-notebook-auth for different authentication mechanisms in azureml-sdk.\n"
     ]
    },
    {
     "name": "stdout",
     "output_type": "stream",
     "text": [
      "Connected to workspace: SignalBoxMLDev\n"
     ]
    }
   ],
   "source": [
    "import azureml.core\n",
    "from azureml.core import Workspace, Dataset, Model, Environment\n",
    "from azureml.core.model import InferenceConfig\n",
    "\n",
    "subscription_id = 'ad2a181b-b804-4179-904a-012445b7d1f5'\n",
    "resource_group = 'analyticsf7fa8b0c'\n",
    "workspace_name = 'SignalBoxMLDev'\n",
    "\n",
    "ws = Workspace(subscription_id, resource_group, workspace_name)\n",
    "\n",
    "print('Connected to workspace:', ws.name)\n",
    "\n",
    "model_version = 'parameter-set-1'\n",
    "tags = {\n",
    "    'source': 'tutorial',\n",
    "    'production': False,\n",
    "    'version': model_version\n",
    "}"
   ]
  },
  {
   "cell_type": "markdown",
   "id": "ae84a478",
   "metadata": {},
   "source": [
    "## 1. Register a model\n",
    "\n",
    "A typical situation for a deployed machine learning service is that you need the following components:\n",
    "\n",
    "* resources representing the specific model that you want deployed (for example: a pytorch model file)\n",
    "* code that you will be running in th service, that executes the model on a given input\n",
    "\n",
    "Azure Machine Learning allows you to separate the deployment into two separate components, so that you can keep the same code, but merely update the model. We define the mechanism by which you upload a model separately from your code as \"registering the model\".\n",
    "\n",
    "You can register a model by providing the local path of the model. You can provide the path of either a folder or a single file on your local machine."
   ]
  },
  {
   "cell_type": "code",
   "execution_count": 2,
   "id": "f490eec2",
   "metadata": {},
   "outputs": [],
   "source": [
    "# define a simple file as the specific 'model' we're going to use.\n",
    "import pickle\n",
    "\n",
    "model_parameters = {'name': 'tutorial-model',\n",
    "        'parameters': {\n",
    "            'weights': [0.6, 0.3, 0.1]\n",
    "        }\n",
    "    }\n",
    "model_filename = 'tutorial_model.pkl'\n",
    "\n",
    "with open(model_filename, 'wb') as handle:\n",
    "    pickle.dump(model_parameters, handle, protocol=pickle.HIGHEST_PROTOCOL)"
   ]
  },
  {
   "cell_type": "code",
   "execution_count": 76,
   "id": "0a11c494",
   "metadata": {},
   "outputs": [
    {
     "name": "stdout",
     "output_type": "stream",
     "text": [
      "Registering model tutorial-model\n"
     ]
    }
   ],
   "source": [
    "# register the model\n",
    "model_properties = {\n",
    "    'source': 'tutorial',\n",
    "    'version': model_version\n",
    "}\n",
    "model = Model.register(ws, \n",
    "                       model_name=model_parameters['name'], \n",
    "                       model_path=model_filename, \n",
    "                       tags=tags\n",
    "                      )"
   ]
  },
  {
   "cell_type": "code",
   "execution_count": 4,
   "id": "80acd40b",
   "metadata": {},
   "outputs": [
    {
     "name": "stdout",
     "output_type": "stream",
     "text": [
      "Model(workspace=Workspace.create(name='SignalBoxMLDev', subscription_id='ad2a181b-b804-4179-904a-012445b7d1f5', resource_group='analyticsf7fa8b0c'), name=tutorial-model, id=tutorial-model:1, version=1, tags={'source': 'tutorial', 'production': 'False'}, properties={})\n"
     ]
    }
   ],
   "source": [
    "print(model)"
   ]
  },
  {
   "cell_type": "markdown",
   "id": "0c6ed24e",
   "metadata": {},
   "source": [
    "## 2. Prepare an entry script\n",
    "\n",
    "The entry script receives data submitted to a deployed web service and passes it to the model. It then returns the model's response to the client. The script is specific to your model. The entry script must understand the data that the model expects and returns.\n",
    "\n",
    "> You can use the environment variable `AZUREML_MODEL_DIR` to locate your model that you registered earlier"
   ]
  },
  {
   "cell_type": "code",
   "execution_count": 46,
   "id": "bee77bd5",
   "metadata": {},
   "outputs": [
    {
     "name": "stdout",
     "output_type": "stream",
     "text": [
      "Overwriting source_dir/entry.py\n"
     ]
    }
   ],
   "source": [
    "%%writefile source_dir/entry.py \n",
    "\n",
    "# this is a very basic entry script\n",
    "import json\n",
    "\n",
    "def init():\n",
    "    print('This is init')\n",
    "\n",
    "def run(data):\n",
    "    test = json.loads(data)\n",
    "    print(f'received data {test}')\n",
    "    return(f'test is {test}')"
   ]
  },
  {
   "cell_type": "code",
   "execution_count": 102,
   "id": "e45ced3b",
   "metadata": {},
   "outputs": [
    {
     "name": "stdout",
     "output_type": "stream",
     "text": [
      "Overwriting source_dir/entry.py\n"
     ]
    }
   ],
   "source": [
    "%%writefile source_dir/entry.py \n",
    "\n",
    "\n",
    "# this is an actual entry script\n",
    "import json\n",
    "import pickle\n",
    "import random\n",
    "import os\n",
    "\n",
    "possible_outcomes = [\n",
    "    {\n",
    "        'max': 5,\n",
    "        'min': 3,\n",
    "        'total': 7\n",
    "    },\n",
    "    {\n",
    "        'max': 10,\n",
    "        'min': 5,\n",
    "        'total': 55\n",
    "    },\n",
    "    {\n",
    "        'max': 20,\n",
    "        'min': 10,\n",
    "        'total': 15\n",
    "    }\n",
    "]\n",
    "def init():\n",
    "    global model_parameters\n",
    "    with open(os.path.join(os.getenv('AZUREML_MODEL_DIR'), 'tutorial_model.pkl'), 'rb') as handle:\n",
    "        model_parameters = pickle.load(handle)['parameters']\n",
    "\n",
    "# request should have: payload: {},  version: str\n",
    "def run(request):\n",
    "    print(request)\n",
    "    body = json.loads(request)\n",
    "    version = body['version']\n",
    "    ## check we can handle the version\n",
    "    if version is str:\n",
    "        print(f'Can handle version {version}')\n",
    "\n",
    "    # Run inference\n",
    "    recommendation = recommend(body['payload'])\n",
    "    print('recommendation:', recommendation)\n",
    "    wrapper = {\n",
    "        'recommendedParameters': recommendation\n",
    "    }\n",
    "    return wrapper\n",
    "\n",
    "# assuming this is a paremeter-set recommender\n",
    "# payload is json with arguments, parameters (both objects)\n",
    "def recommend(r):\n",
    "    # sort the offers by ID\n",
    "    parameterBounds = r['parameterBounds']\n",
    "    print(parameterBounds)\n",
    "    arguments = r['arguments']\n",
    "    print(arguments)\n",
    "    # you can load parameters from the model if you need ot.\n",
    "    print('model params:', model_parameters['weights'])\n",
    "    # random.choices() returns a list of k length\n",
    "    return random.choices(possible_outcomes, model_parameters['weights'], k=1)[0] \n",
    "\n"
   ]
  },
  {
   "cell_type": "markdown",
   "id": "eaddcd07",
   "metadata": {},
   "source": [
    "## 3. Prepare an inference configuration and a deployment configuration\n",
    "\n",
    "### Inference\n",
    "\n",
    "An inference configuration describes the Docker container and files to use when initializing your web service. All of the files within your source directory, including subdirectories, will be zipped up and uploaded to the cloud when you deploy your web service.\n",
    "\n",
    "### Deployment\n",
    "\n",
    "A deployment configuration specifies the amount of memory and cores to reserve for your webservice will require in order to run, as well as configuration details of the underlying webservice. For example, a deployment configuration lets you specify that your service needs 2 gigabytes of memory, 2 CPU cores, 1 GPU core, and that you want to enable autoscaling."
   ]
  },
  {
   "cell_type": "code",
   "execution_count": 87,
   "id": "d1f2fe5a",
   "metadata": {},
   "outputs": [],
   "source": [
    "env = Environment.from_pip_requirements(name='tutorial_environment', file_path=\"./model_requirements.txt\")\n",
    "inference_config = InferenceConfig(environment=env, source_directory='source_dir', entry_script='./entry.py')"
   ]
  },
  {
   "cell_type": "code",
   "execution_count": 88,
   "id": "addc0d30",
   "metadata": {},
   "outputs": [],
   "source": [
    "# this creates a local webservice\n",
    "from azureml.core.webservice import LocalWebservice\n",
    "deployment_config = LocalWebservice.deploy_configuration(port=6789)"
   ]
  },
  {
   "cell_type": "markdown",
   "id": "c5619ade",
   "metadata": {},
   "source": [
    "## 4. Deploy the model locally to ensure everything works\n",
    "\n",
    "This part needs docker installed and running"
   ]
  },
  {
   "cell_type": "code",
   "execution_count": 62,
   "id": "b160b8e4",
   "metadata": {
    "scrolled": true
   },
   "outputs": [
    {
     "name": "stdout",
     "output_type": "stream",
     "text": [
      "Downloading model tutorial-model:1 to /var/folders/r9/zky7_kgn5955p246_2p84brh0000gn/T/azureml_ae4zqmaa/tutorial-model/1\n",
      "Generating Docker build context.\n",
      "Package creation Succeeded\n",
      "Logging into Docker registry mlresgistryfe091fe9.azurecr.io\n",
      "Logging into Docker registry mlresgistryfe091fe9.azurecr.io\n",
      "Building Docker image from Dockerfile...\n",
      "Step 1/5 : FROM mlresgistryfe091fe9.azurecr.io/azureml/azureml_984ae42c92ab7e15d7808a45a9ac459f\n",
      " ---> 2f5da5597264\n",
      "Step 2/5 : COPY azureml-app /var/azureml-app\n",
      " ---> 10f0c8dc7065\n",
      "Step 3/5 : RUN mkdir -p '/var/azureml-app' && echo eyJhY2NvdW50Q29udGV4dCI6eyJzdWJzY3JpcHRpb25JZCI6ImFkMmExODFiLWI4MDQtNDE3OS05MDRhLTAxMjQ0NWI3ZDFmNSIsInJlc291cmNlR3JvdXBOYW1lIjoiYW5hbHl0aWNzZjdmYThiMGMiLCJhY2NvdW50TmFtZSI6InNpZ25hbGJveG1sZGV2Iiwid29ya3NwYWNlSWQiOiIyNTJmNTM5Ni03NmYwLTRjZDYtOGE3OS0wYjQ5ZGI3NmM1MGIifSwibW9kZWxzIjp7fSwibW9kZWxzSW5mbyI6e319 | base64 --decode > /var/azureml-app/model_config_map.json\n",
      " ---> Running in 2f50297a3607\n",
      " ---> de20f7087267\n",
      "Step 4/5 : RUN mv '/var/azureml-app/tmp4feq6spx.py' /var/azureml-app/main.py\n",
      " ---> Running in 1589c869cc9a\n",
      " ---> d4f40230d89a\n",
      "Step 5/5 : CMD [\"runsvdir\",\"/var/runit\"]\n",
      " ---> Running in c85d156eaf77\n",
      " ---> 16f97431b2c2\n",
      "Successfully built 16f97431b2c2\n",
      "Successfully tagged tutorial-service-local:latest\n",
      "Container has been successfully cleaned up.\n",
      "Image sha256:7e0871af21a78cb50fc6c98adf363dbffafc3e5af3ef6228395fd64585fd6ce4 successfully removed.\n",
      "Starting Docker container...\n",
      "Docker container running.\n",
      "Checking container health...\n",
      "Local webservice is running at http://localhost:6789\n",
      "2021-06-23T04:18:55,570325854+00:00 - rsyslog/run \n",
      "2021-06-23T04:18:55,570625668+00:00 - gunicorn/run \n",
      "2021-06-23T04:18:55,571020998+00:00 - iot-server/run \n",
      "/usr/sbin/nginx: /azureml-envs/azureml_abe832532d68e7634ad48db5ac241baf/lib/libcrypto.so.1.0.0: no version information available (required by /usr/sbin/nginx)\n",
      "/usr/sbin/nginx: /azureml-envs/azureml_abe832532d68e7634ad48db5ac241baf/lib/libcrypto.so.1.0.0: no version information available (required by /usr/sbin/nginx)\n",
      "/usr/sbin/nginx: /azureml-envs/azureml_abe832532d68e7634ad48db5ac241baf/lib/libssl.so.1.0.0: no version information available (required by /usr/sbin/nginx)\n",
      "/usr/sbin/nginx: /azureml-envs/azureml_abe832532d68e7634ad48db5ac241baf/lib/libssl.so.1.0.0: no version information available (required by /usr/sbin/nginx)\n",
      "/usr/sbin/nginx: /azureml-envs/azureml_abe832532d68e7634ad48db5ac241baf/lib/libssl.so.1.0.0: no version information available (required by /usr/sbin/nginx)\n",
      "2021-06-23T04:18:55,572543627+00:00 - nginx/run \n",
      "EdgeHubConnectionString and IOTEDGE_IOTHUBHOSTNAME are not set. Exiting...\n",
      "2021-06-23T04:18:55,634506289+00:00 - iot-server/finish 1 0\n",
      "2021-06-23T04:18:55,635929076+00:00 - Exit code 1 is normal. Not restarting iot-server.\n",
      "Starting gunicorn 20.1.0\n",
      "Listening at: http://127.0.0.1:31311 (13)\n",
      "Using worker: sync\n",
      "worker timeout is set to 300\n",
      "Booting worker with pid: 46\n",
      "SPARK_HOME not set. Skipping PySpark Initialization.\n",
      "Initializing logger\n",
      "2021-06-23 04:18:55,962 | root | INFO | Starting up app insights client\n",
      "2021-06-23 04:18:55,962 | root | INFO | Starting up request id generator\n",
      "2021-06-23 04:18:55,962 | root | INFO | Starting up app insight hooks\n",
      "2021-06-23 04:18:55,962 | root | INFO | Invoking user's init function\n",
      "2021-06-23 04:18:55,962 | root | INFO | Users's init has completed successfully\n",
      "2021-06-23 04:18:55,964 | root | INFO | Skipping middleware: dbg_model_info as it's not enabled.\n",
      "2021-06-23 04:18:55,964 | root | INFO | Skipping middleware: dbg_resource_usage as it's not enabled.\n",
      "2021-06-23 04:18:55,964 | root | INFO | Scoring timeout setting is not found. Use default timeout: 3600000 ms\n",
      "\n"
     ]
    }
   ],
   "source": [
    "service = Model.deploy(ws, \"tutorial-service-local\", [model], inference_config, deployment_config)\n",
    "service.wait_for_deployment(show_output=True)\n",
    "print(service.get_logs())"
   ]
  },
  {
   "cell_type": "markdown",
   "id": "98fe3e65",
   "metadata": {},
   "source": [
    "Call the local docker container to check that it works"
   ]
  },
  {
   "cell_type": "code",
   "execution_count": 95,
   "id": "5f59636f",
   "metadata": {},
   "outputs": [],
   "source": [
    "data = {\n",
    "    \"version\": \"parameter-set-1\", # check this version mathes\n",
    "    \"payload\": {\n",
    "        \"arguments\": {\n",
    "            \"arg1\": 5,\n",
    "            \"arg2\": 7\n",
    "        },\n",
    "         \"parameterBounds\": [\n",
    "            {\n",
    "                \"commonId\": \"max\",\n",
    "                \"parameterType\": \"numeric\",\n",
    "                \"numericBounds\": {\n",
    "                    \"min\": 10,\n",
    "                    \"max\": 100\n",
    "                }\n",
    "            },\n",
    "            {\n",
    "                \"commonId\": \"min\",\n",
    "                \"parameterType\": \"numeric\",\n",
    "                \"numericBounds\": {\n",
    "                    \"min\": 0,\n",
    "                    \"max\": 50\n",
    "                }\n",
    "            },\n",
    "        ]}\n",
    "}"
   ]
  },
  {
   "cell_type": "code",
   "execution_count": 90,
   "id": "253d7de7",
   "metadata": {},
   "outputs": [
    {
     "ename": "ConnectionError",
     "evalue": "HTTPConnectionPool(host='localhost', port=6789): Max retries exceeded with url: / (Caused by NewConnectionError('<urllib3.connection.HTTPConnection object at 0x7f8ee849fb50>: Failed to establish a new connection: [Errno 61] Connection refused'))",
     "output_type": "error",
     "traceback": [
      "\u001b[0;31m---------------------------------------------------------------------------\u001b[0m",
      "\u001b[0;31mConnectionRefusedError\u001b[0m                    Traceback (most recent call last)",
      "\u001b[0;32m~/miniconda3/envs/signalboxml/lib/python3.7/site-packages/urllib3/connection.py\u001b[0m in \u001b[0;36m_new_conn\u001b[0;34m(self)\u001b[0m\n\u001b[1;32m    169\u001b[0m             conn = connection.create_connection(\n\u001b[0;32m--> 170\u001b[0;31m                 \u001b[0;34m(\u001b[0m\u001b[0mself\u001b[0m\u001b[0;34m.\u001b[0m\u001b[0m_dns_host\u001b[0m\u001b[0;34m,\u001b[0m \u001b[0mself\u001b[0m\u001b[0;34m.\u001b[0m\u001b[0mport\u001b[0m\u001b[0;34m)\u001b[0m\u001b[0;34m,\u001b[0m \u001b[0mself\u001b[0m\u001b[0;34m.\u001b[0m\u001b[0mtimeout\u001b[0m\u001b[0;34m,\u001b[0m \u001b[0;34m**\u001b[0m\u001b[0mextra_kw\u001b[0m\u001b[0;34m\u001b[0m\u001b[0;34m\u001b[0m\u001b[0m\n\u001b[0m\u001b[1;32m    171\u001b[0m             )\n",
      "\u001b[0;32m~/miniconda3/envs/signalboxml/lib/python3.7/site-packages/urllib3/util/connection.py\u001b[0m in \u001b[0;36mcreate_connection\u001b[0;34m(address, timeout, source_address, socket_options)\u001b[0m\n\u001b[1;32m     95\u001b[0m     \u001b[0;32mif\u001b[0m \u001b[0merr\u001b[0m \u001b[0;32mis\u001b[0m \u001b[0;32mnot\u001b[0m \u001b[0;32mNone\u001b[0m\u001b[0;34m:\u001b[0m\u001b[0;34m\u001b[0m\u001b[0;34m\u001b[0m\u001b[0m\n\u001b[0;32m---> 96\u001b[0;31m         \u001b[0;32mraise\u001b[0m \u001b[0merr\u001b[0m\u001b[0;34m\u001b[0m\u001b[0;34m\u001b[0m\u001b[0m\n\u001b[0m\u001b[1;32m     97\u001b[0m \u001b[0;34m\u001b[0m\u001b[0m\n",
      "\u001b[0;32m~/miniconda3/envs/signalboxml/lib/python3.7/site-packages/urllib3/util/connection.py\u001b[0m in \u001b[0;36mcreate_connection\u001b[0;34m(address, timeout, source_address, socket_options)\u001b[0m\n\u001b[1;32m     85\u001b[0m                 \u001b[0msock\u001b[0m\u001b[0;34m.\u001b[0m\u001b[0mbind\u001b[0m\u001b[0;34m(\u001b[0m\u001b[0msource_address\u001b[0m\u001b[0;34m)\u001b[0m\u001b[0;34m\u001b[0m\u001b[0;34m\u001b[0m\u001b[0m\n\u001b[0;32m---> 86\u001b[0;31m             \u001b[0msock\u001b[0m\u001b[0;34m.\u001b[0m\u001b[0mconnect\u001b[0m\u001b[0;34m(\u001b[0m\u001b[0msa\u001b[0m\u001b[0;34m)\u001b[0m\u001b[0;34m\u001b[0m\u001b[0;34m\u001b[0m\u001b[0m\n\u001b[0m\u001b[1;32m     87\u001b[0m             \u001b[0;32mreturn\u001b[0m \u001b[0msock\u001b[0m\u001b[0;34m\u001b[0m\u001b[0;34m\u001b[0m\u001b[0m\n",
      "\u001b[0;31mConnectionRefusedError\u001b[0m: [Errno 61] Connection refused",
      "\nDuring handling of the above exception, another exception occurred:\n",
      "\u001b[0;31mNewConnectionError\u001b[0m                        Traceback (most recent call last)",
      "\u001b[0;32m~/miniconda3/envs/signalboxml/lib/python3.7/site-packages/urllib3/connectionpool.py\u001b[0m in \u001b[0;36murlopen\u001b[0;34m(self, method, url, body, headers, retries, redirect, assert_same_host, timeout, pool_timeout, release_conn, chunked, body_pos, **response_kw)\u001b[0m\n\u001b[1;32m    705\u001b[0m                 \u001b[0mheaders\u001b[0m\u001b[0;34m=\u001b[0m\u001b[0mheaders\u001b[0m\u001b[0;34m,\u001b[0m\u001b[0;34m\u001b[0m\u001b[0;34m\u001b[0m\u001b[0m\n\u001b[0;32m--> 706\u001b[0;31m                 \u001b[0mchunked\u001b[0m\u001b[0;34m=\u001b[0m\u001b[0mchunked\u001b[0m\u001b[0;34m,\u001b[0m\u001b[0;34m\u001b[0m\u001b[0;34m\u001b[0m\u001b[0m\n\u001b[0m\u001b[1;32m    707\u001b[0m             )\n",
      "\u001b[0;32m~/miniconda3/envs/signalboxml/lib/python3.7/site-packages/urllib3/connectionpool.py\u001b[0m in \u001b[0;36m_make_request\u001b[0;34m(self, conn, method, url, timeout, chunked, **httplib_request_kw)\u001b[0m\n\u001b[1;32m    393\u001b[0m             \u001b[0;32melse\u001b[0m\u001b[0;34m:\u001b[0m\u001b[0;34m\u001b[0m\u001b[0;34m\u001b[0m\u001b[0m\n\u001b[0;32m--> 394\u001b[0;31m                 \u001b[0mconn\u001b[0m\u001b[0;34m.\u001b[0m\u001b[0mrequest\u001b[0m\u001b[0;34m(\u001b[0m\u001b[0mmethod\u001b[0m\u001b[0;34m,\u001b[0m \u001b[0murl\u001b[0m\u001b[0;34m,\u001b[0m \u001b[0;34m**\u001b[0m\u001b[0mhttplib_request_kw\u001b[0m\u001b[0;34m)\u001b[0m\u001b[0;34m\u001b[0m\u001b[0;34m\u001b[0m\u001b[0m\n\u001b[0m\u001b[1;32m    395\u001b[0m \u001b[0;34m\u001b[0m\u001b[0m\n",
      "\u001b[0;32m~/miniconda3/envs/signalboxml/lib/python3.7/site-packages/urllib3/connection.py\u001b[0m in \u001b[0;36mrequest\u001b[0;34m(self, method, url, body, headers)\u001b[0m\n\u001b[1;32m    233\u001b[0m             \u001b[0mheaders\u001b[0m\u001b[0;34m[\u001b[0m\u001b[0;34m\"User-Agent\"\u001b[0m\u001b[0;34m]\u001b[0m \u001b[0;34m=\u001b[0m \u001b[0m_get_default_user_agent\u001b[0m\u001b[0;34m(\u001b[0m\u001b[0;34m)\u001b[0m\u001b[0;34m\u001b[0m\u001b[0;34m\u001b[0m\u001b[0m\n\u001b[0;32m--> 234\u001b[0;31m         \u001b[0msuper\u001b[0m\u001b[0;34m(\u001b[0m\u001b[0mHTTPConnection\u001b[0m\u001b[0;34m,\u001b[0m \u001b[0mself\u001b[0m\u001b[0;34m)\u001b[0m\u001b[0;34m.\u001b[0m\u001b[0mrequest\u001b[0m\u001b[0;34m(\u001b[0m\u001b[0mmethod\u001b[0m\u001b[0;34m,\u001b[0m \u001b[0murl\u001b[0m\u001b[0;34m,\u001b[0m \u001b[0mbody\u001b[0m\u001b[0;34m=\u001b[0m\u001b[0mbody\u001b[0m\u001b[0;34m,\u001b[0m \u001b[0mheaders\u001b[0m\u001b[0;34m=\u001b[0m\u001b[0mheaders\u001b[0m\u001b[0;34m)\u001b[0m\u001b[0;34m\u001b[0m\u001b[0;34m\u001b[0m\u001b[0m\n\u001b[0m\u001b[1;32m    235\u001b[0m \u001b[0;34m\u001b[0m\u001b[0m\n",
      "\u001b[0;32m~/miniconda3/envs/signalboxml/lib/python3.7/http/client.py\u001b[0m in \u001b[0;36mrequest\u001b[0;34m(self, method, url, body, headers, encode_chunked)\u001b[0m\n\u001b[1;32m   1276\u001b[0m         \u001b[0;34m\"\"\"Send a complete request to the server.\"\"\"\u001b[0m\u001b[0;34m\u001b[0m\u001b[0;34m\u001b[0m\u001b[0m\n\u001b[0;32m-> 1277\u001b[0;31m         \u001b[0mself\u001b[0m\u001b[0;34m.\u001b[0m\u001b[0m_send_request\u001b[0m\u001b[0;34m(\u001b[0m\u001b[0mmethod\u001b[0m\u001b[0;34m,\u001b[0m \u001b[0murl\u001b[0m\u001b[0;34m,\u001b[0m \u001b[0mbody\u001b[0m\u001b[0;34m,\u001b[0m \u001b[0mheaders\u001b[0m\u001b[0;34m,\u001b[0m \u001b[0mencode_chunked\u001b[0m\u001b[0;34m)\u001b[0m\u001b[0;34m\u001b[0m\u001b[0;34m\u001b[0m\u001b[0m\n\u001b[0m\u001b[1;32m   1278\u001b[0m \u001b[0;34m\u001b[0m\u001b[0m\n",
      "\u001b[0;32m~/miniconda3/envs/signalboxml/lib/python3.7/http/client.py\u001b[0m in \u001b[0;36m_send_request\u001b[0;34m(self, method, url, body, headers, encode_chunked)\u001b[0m\n\u001b[1;32m   1322\u001b[0m             \u001b[0mbody\u001b[0m \u001b[0;34m=\u001b[0m \u001b[0m_encode\u001b[0m\u001b[0;34m(\u001b[0m\u001b[0mbody\u001b[0m\u001b[0;34m,\u001b[0m \u001b[0;34m'body'\u001b[0m\u001b[0;34m)\u001b[0m\u001b[0;34m\u001b[0m\u001b[0;34m\u001b[0m\u001b[0m\n\u001b[0;32m-> 1323\u001b[0;31m         \u001b[0mself\u001b[0m\u001b[0;34m.\u001b[0m\u001b[0mendheaders\u001b[0m\u001b[0;34m(\u001b[0m\u001b[0mbody\u001b[0m\u001b[0;34m,\u001b[0m \u001b[0mencode_chunked\u001b[0m\u001b[0;34m=\u001b[0m\u001b[0mencode_chunked\u001b[0m\u001b[0;34m)\u001b[0m\u001b[0;34m\u001b[0m\u001b[0;34m\u001b[0m\u001b[0m\n\u001b[0m\u001b[1;32m   1324\u001b[0m \u001b[0;34m\u001b[0m\u001b[0m\n",
      "\u001b[0;32m~/miniconda3/envs/signalboxml/lib/python3.7/http/client.py\u001b[0m in \u001b[0;36mendheaders\u001b[0;34m(self, message_body, encode_chunked)\u001b[0m\n\u001b[1;32m   1271\u001b[0m             \u001b[0;32mraise\u001b[0m \u001b[0mCannotSendHeader\u001b[0m\u001b[0;34m(\u001b[0m\u001b[0;34m)\u001b[0m\u001b[0;34m\u001b[0m\u001b[0;34m\u001b[0m\u001b[0m\n\u001b[0;32m-> 1272\u001b[0;31m         \u001b[0mself\u001b[0m\u001b[0;34m.\u001b[0m\u001b[0m_send_output\u001b[0m\u001b[0;34m(\u001b[0m\u001b[0mmessage_body\u001b[0m\u001b[0;34m,\u001b[0m \u001b[0mencode_chunked\u001b[0m\u001b[0;34m=\u001b[0m\u001b[0mencode_chunked\u001b[0m\u001b[0;34m)\u001b[0m\u001b[0;34m\u001b[0m\u001b[0;34m\u001b[0m\u001b[0m\n\u001b[0m\u001b[1;32m   1273\u001b[0m \u001b[0;34m\u001b[0m\u001b[0m\n",
      "\u001b[0;32m~/miniconda3/envs/signalboxml/lib/python3.7/http/client.py\u001b[0m in \u001b[0;36m_send_output\u001b[0;34m(self, message_body, encode_chunked)\u001b[0m\n\u001b[1;32m   1031\u001b[0m         \u001b[0;32mdel\u001b[0m \u001b[0mself\u001b[0m\u001b[0;34m.\u001b[0m\u001b[0m_buffer\u001b[0m\u001b[0;34m[\u001b[0m\u001b[0;34m:\u001b[0m\u001b[0;34m]\u001b[0m\u001b[0;34m\u001b[0m\u001b[0;34m\u001b[0m\u001b[0m\n\u001b[0;32m-> 1032\u001b[0;31m         \u001b[0mself\u001b[0m\u001b[0;34m.\u001b[0m\u001b[0msend\u001b[0m\u001b[0;34m(\u001b[0m\u001b[0mmsg\u001b[0m\u001b[0;34m)\u001b[0m\u001b[0;34m\u001b[0m\u001b[0;34m\u001b[0m\u001b[0m\n\u001b[0m\u001b[1;32m   1033\u001b[0m \u001b[0;34m\u001b[0m\u001b[0m\n",
      "\u001b[0;32m~/miniconda3/envs/signalboxml/lib/python3.7/http/client.py\u001b[0m in \u001b[0;36msend\u001b[0;34m(self, data)\u001b[0m\n\u001b[1;32m    971\u001b[0m             \u001b[0;32mif\u001b[0m \u001b[0mself\u001b[0m\u001b[0;34m.\u001b[0m\u001b[0mauto_open\u001b[0m\u001b[0;34m:\u001b[0m\u001b[0;34m\u001b[0m\u001b[0;34m\u001b[0m\u001b[0m\n\u001b[0;32m--> 972\u001b[0;31m                 \u001b[0mself\u001b[0m\u001b[0;34m.\u001b[0m\u001b[0mconnect\u001b[0m\u001b[0;34m(\u001b[0m\u001b[0;34m)\u001b[0m\u001b[0;34m\u001b[0m\u001b[0;34m\u001b[0m\u001b[0m\n\u001b[0m\u001b[1;32m    973\u001b[0m             \u001b[0;32melse\u001b[0m\u001b[0;34m:\u001b[0m\u001b[0;34m\u001b[0m\u001b[0;34m\u001b[0m\u001b[0m\n",
      "\u001b[0;32m~/miniconda3/envs/signalboxml/lib/python3.7/site-packages/urllib3/connection.py\u001b[0m in \u001b[0;36mconnect\u001b[0;34m(self)\u001b[0m\n\u001b[1;32m    199\u001b[0m     \u001b[0;32mdef\u001b[0m \u001b[0mconnect\u001b[0m\u001b[0;34m(\u001b[0m\u001b[0mself\u001b[0m\u001b[0;34m)\u001b[0m\u001b[0;34m:\u001b[0m\u001b[0;34m\u001b[0m\u001b[0;34m\u001b[0m\u001b[0m\n\u001b[0;32m--> 200\u001b[0;31m         \u001b[0mconn\u001b[0m \u001b[0;34m=\u001b[0m \u001b[0mself\u001b[0m\u001b[0;34m.\u001b[0m\u001b[0m_new_conn\u001b[0m\u001b[0;34m(\u001b[0m\u001b[0;34m)\u001b[0m\u001b[0;34m\u001b[0m\u001b[0;34m\u001b[0m\u001b[0m\n\u001b[0m\u001b[1;32m    201\u001b[0m         \u001b[0mself\u001b[0m\u001b[0;34m.\u001b[0m\u001b[0m_prepare_conn\u001b[0m\u001b[0;34m(\u001b[0m\u001b[0mconn\u001b[0m\u001b[0;34m)\u001b[0m\u001b[0;34m\u001b[0m\u001b[0;34m\u001b[0m\u001b[0m\n",
      "\u001b[0;32m~/miniconda3/envs/signalboxml/lib/python3.7/site-packages/urllib3/connection.py\u001b[0m in \u001b[0;36m_new_conn\u001b[0;34m(self)\u001b[0m\n\u001b[1;32m    181\u001b[0m             raise NewConnectionError(\n\u001b[0;32m--> 182\u001b[0;31m                 \u001b[0mself\u001b[0m\u001b[0;34m,\u001b[0m \u001b[0;34m\"Failed to establish a new connection: %s\"\u001b[0m \u001b[0;34m%\u001b[0m \u001b[0me\u001b[0m\u001b[0;34m\u001b[0m\u001b[0;34m\u001b[0m\u001b[0m\n\u001b[0m\u001b[1;32m    183\u001b[0m             )\n",
      "\u001b[0;31mNewConnectionError\u001b[0m: <urllib3.connection.HTTPConnection object at 0x7f8ee849fb50>: Failed to establish a new connection: [Errno 61] Connection refused",
      "\nDuring handling of the above exception, another exception occurred:\n",
      "\u001b[0;31mMaxRetryError\u001b[0m                             Traceback (most recent call last)",
      "\u001b[0;32m~/miniconda3/envs/signalboxml/lib/python3.7/site-packages/requests/adapters.py\u001b[0m in \u001b[0;36msend\u001b[0;34m(self, request, stream, timeout, verify, cert, proxies)\u001b[0m\n\u001b[1;32m    448\u001b[0m                     \u001b[0mretries\u001b[0m\u001b[0;34m=\u001b[0m\u001b[0mself\u001b[0m\u001b[0;34m.\u001b[0m\u001b[0mmax_retries\u001b[0m\u001b[0;34m,\u001b[0m\u001b[0;34m\u001b[0m\u001b[0;34m\u001b[0m\u001b[0m\n\u001b[0;32m--> 449\u001b[0;31m                     \u001b[0mtimeout\u001b[0m\u001b[0;34m=\u001b[0m\u001b[0mtimeout\u001b[0m\u001b[0;34m\u001b[0m\u001b[0;34m\u001b[0m\u001b[0m\n\u001b[0m\u001b[1;32m    450\u001b[0m                 )\n",
      "\u001b[0;32m~/miniconda3/envs/signalboxml/lib/python3.7/site-packages/urllib3/connectionpool.py\u001b[0m in \u001b[0;36murlopen\u001b[0;34m(self, method, url, body, headers, retries, redirect, assert_same_host, timeout, pool_timeout, release_conn, chunked, body_pos, **response_kw)\u001b[0m\n\u001b[1;32m    755\u001b[0m             retries = retries.increment(\n\u001b[0;32m--> 756\u001b[0;31m                 \u001b[0mmethod\u001b[0m\u001b[0;34m,\u001b[0m \u001b[0murl\u001b[0m\u001b[0;34m,\u001b[0m \u001b[0merror\u001b[0m\u001b[0;34m=\u001b[0m\u001b[0me\u001b[0m\u001b[0;34m,\u001b[0m \u001b[0m_pool\u001b[0m\u001b[0;34m=\u001b[0m\u001b[0mself\u001b[0m\u001b[0;34m,\u001b[0m \u001b[0m_stacktrace\u001b[0m\u001b[0;34m=\u001b[0m\u001b[0msys\u001b[0m\u001b[0;34m.\u001b[0m\u001b[0mexc_info\u001b[0m\u001b[0;34m(\u001b[0m\u001b[0;34m)\u001b[0m\u001b[0;34m[\u001b[0m\u001b[0;36m2\u001b[0m\u001b[0;34m]\u001b[0m\u001b[0;34m\u001b[0m\u001b[0;34m\u001b[0m\u001b[0m\n\u001b[0m\u001b[1;32m    757\u001b[0m             )\n",
      "\u001b[0;32m~/miniconda3/envs/signalboxml/lib/python3.7/site-packages/urllib3/util/retry.py\u001b[0m in \u001b[0;36mincrement\u001b[0;34m(self, method, url, response, error, _pool, _stacktrace)\u001b[0m\n\u001b[1;32m    573\u001b[0m         \u001b[0;32mif\u001b[0m \u001b[0mnew_retry\u001b[0m\u001b[0;34m.\u001b[0m\u001b[0mis_exhausted\u001b[0m\u001b[0;34m(\u001b[0m\u001b[0;34m)\u001b[0m\u001b[0;34m:\u001b[0m\u001b[0;34m\u001b[0m\u001b[0;34m\u001b[0m\u001b[0m\n\u001b[0;32m--> 574\u001b[0;31m             \u001b[0;32mraise\u001b[0m \u001b[0mMaxRetryError\u001b[0m\u001b[0;34m(\u001b[0m\u001b[0m_pool\u001b[0m\u001b[0;34m,\u001b[0m \u001b[0murl\u001b[0m\u001b[0;34m,\u001b[0m \u001b[0merror\u001b[0m \u001b[0;32mor\u001b[0m \u001b[0mResponseError\u001b[0m\u001b[0;34m(\u001b[0m\u001b[0mcause\u001b[0m\u001b[0;34m)\u001b[0m\u001b[0;34m)\u001b[0m\u001b[0;34m\u001b[0m\u001b[0;34m\u001b[0m\u001b[0m\n\u001b[0m\u001b[1;32m    575\u001b[0m \u001b[0;34m\u001b[0m\u001b[0m\n",
      "\u001b[0;31mMaxRetryError\u001b[0m: HTTPConnectionPool(host='localhost', port=6789): Max retries exceeded with url: / (Caused by NewConnectionError('<urllib3.connection.HTTPConnection object at 0x7f8ee849fb50>: Failed to establish a new connection: [Errno 61] Connection refused'))",
      "\nDuring handling of the above exception, another exception occurred:\n",
      "\u001b[0;31mConnectionError\u001b[0m                           Traceback (most recent call last)",
      "\u001b[0;32m<ipython-input-90-40dec7ac99bf>\u001b[0m in \u001b[0;36m<module>\u001b[0;34m\u001b[0m\n\u001b[1;32m      4\u001b[0m \u001b[0;34m\u001b[0m\u001b[0m\n\u001b[1;32m      5\u001b[0m \u001b[0muri\u001b[0m \u001b[0;34m=\u001b[0m \u001b[0mservice\u001b[0m\u001b[0;34m.\u001b[0m\u001b[0mscoring_uri\u001b[0m\u001b[0;34m\u001b[0m\u001b[0;34m\u001b[0m\u001b[0m\n\u001b[0;32m----> 6\u001b[0;31m \u001b[0mrequests\u001b[0m\u001b[0;34m.\u001b[0m\u001b[0mget\u001b[0m\u001b[0;34m(\u001b[0m\u001b[0;34m'http://localhost:6789'\u001b[0m\u001b[0;34m)\u001b[0m\u001b[0;34m\u001b[0m\u001b[0;34m\u001b[0m\u001b[0m\n\u001b[0m\u001b[1;32m      7\u001b[0m \u001b[0mheaders\u001b[0m \u001b[0;34m=\u001b[0m \u001b[0;34m{\u001b[0m\u001b[0;34m'Content-Type'\u001b[0m\u001b[0;34m:\u001b[0m \u001b[0;34m'application/json'\u001b[0m\u001b[0;34m}\u001b[0m\u001b[0;34m\u001b[0m\u001b[0;34m\u001b[0m\u001b[0m\n\u001b[1;32m      8\u001b[0m \u001b[0mdata_stringified\u001b[0m \u001b[0;34m=\u001b[0m \u001b[0mjson\u001b[0m\u001b[0;34m.\u001b[0m\u001b[0mdumps\u001b[0m\u001b[0;34m(\u001b[0m\u001b[0mdata\u001b[0m\u001b[0;34m)\u001b[0m\u001b[0;34m\u001b[0m\u001b[0;34m\u001b[0m\u001b[0m\n",
      "\u001b[0;32m~/miniconda3/envs/signalboxml/lib/python3.7/site-packages/requests/api.py\u001b[0m in \u001b[0;36mget\u001b[0;34m(url, params, **kwargs)\u001b[0m\n\u001b[1;32m     74\u001b[0m \u001b[0;34m\u001b[0m\u001b[0m\n\u001b[1;32m     75\u001b[0m     \u001b[0mkwargs\u001b[0m\u001b[0;34m.\u001b[0m\u001b[0msetdefault\u001b[0m\u001b[0;34m(\u001b[0m\u001b[0;34m'allow_redirects'\u001b[0m\u001b[0;34m,\u001b[0m \u001b[0;32mTrue\u001b[0m\u001b[0;34m)\u001b[0m\u001b[0;34m\u001b[0m\u001b[0;34m\u001b[0m\u001b[0m\n\u001b[0;32m---> 76\u001b[0;31m     \u001b[0;32mreturn\u001b[0m \u001b[0mrequest\u001b[0m\u001b[0;34m(\u001b[0m\u001b[0;34m'get'\u001b[0m\u001b[0;34m,\u001b[0m \u001b[0murl\u001b[0m\u001b[0;34m,\u001b[0m \u001b[0mparams\u001b[0m\u001b[0;34m=\u001b[0m\u001b[0mparams\u001b[0m\u001b[0;34m,\u001b[0m \u001b[0;34m**\u001b[0m\u001b[0mkwargs\u001b[0m\u001b[0;34m)\u001b[0m\u001b[0;34m\u001b[0m\u001b[0;34m\u001b[0m\u001b[0m\n\u001b[0m\u001b[1;32m     77\u001b[0m \u001b[0;34m\u001b[0m\u001b[0m\n\u001b[1;32m     78\u001b[0m \u001b[0;34m\u001b[0m\u001b[0m\n",
      "\u001b[0;32m~/miniconda3/envs/signalboxml/lib/python3.7/site-packages/requests/api.py\u001b[0m in \u001b[0;36mrequest\u001b[0;34m(method, url, **kwargs)\u001b[0m\n\u001b[1;32m     59\u001b[0m     \u001b[0;31m# cases, and look like a memory leak in others.\u001b[0m\u001b[0;34m\u001b[0m\u001b[0;34m\u001b[0m\u001b[0;34m\u001b[0m\u001b[0m\n\u001b[1;32m     60\u001b[0m     \u001b[0;32mwith\u001b[0m \u001b[0msessions\u001b[0m\u001b[0;34m.\u001b[0m\u001b[0mSession\u001b[0m\u001b[0;34m(\u001b[0m\u001b[0;34m)\u001b[0m \u001b[0;32mas\u001b[0m \u001b[0msession\u001b[0m\u001b[0;34m:\u001b[0m\u001b[0;34m\u001b[0m\u001b[0;34m\u001b[0m\u001b[0m\n\u001b[0;32m---> 61\u001b[0;31m         \u001b[0;32mreturn\u001b[0m \u001b[0msession\u001b[0m\u001b[0;34m.\u001b[0m\u001b[0mrequest\u001b[0m\u001b[0;34m(\u001b[0m\u001b[0mmethod\u001b[0m\u001b[0;34m=\u001b[0m\u001b[0mmethod\u001b[0m\u001b[0;34m,\u001b[0m \u001b[0murl\u001b[0m\u001b[0;34m=\u001b[0m\u001b[0murl\u001b[0m\u001b[0;34m,\u001b[0m \u001b[0;34m**\u001b[0m\u001b[0mkwargs\u001b[0m\u001b[0;34m)\u001b[0m\u001b[0;34m\u001b[0m\u001b[0;34m\u001b[0m\u001b[0m\n\u001b[0m\u001b[1;32m     62\u001b[0m \u001b[0;34m\u001b[0m\u001b[0m\n\u001b[1;32m     63\u001b[0m \u001b[0;34m\u001b[0m\u001b[0m\n",
      "\u001b[0;32m~/miniconda3/envs/signalboxml/lib/python3.7/site-packages/requests/sessions.py\u001b[0m in \u001b[0;36mrequest\u001b[0;34m(self, method, url, params, data, headers, cookies, files, auth, timeout, allow_redirects, proxies, hooks, stream, verify, cert, json)\u001b[0m\n\u001b[1;32m    540\u001b[0m         }\n\u001b[1;32m    541\u001b[0m         \u001b[0msend_kwargs\u001b[0m\u001b[0;34m.\u001b[0m\u001b[0mupdate\u001b[0m\u001b[0;34m(\u001b[0m\u001b[0msettings\u001b[0m\u001b[0;34m)\u001b[0m\u001b[0;34m\u001b[0m\u001b[0;34m\u001b[0m\u001b[0m\n\u001b[0;32m--> 542\u001b[0;31m         \u001b[0mresp\u001b[0m \u001b[0;34m=\u001b[0m \u001b[0mself\u001b[0m\u001b[0;34m.\u001b[0m\u001b[0msend\u001b[0m\u001b[0;34m(\u001b[0m\u001b[0mprep\u001b[0m\u001b[0;34m,\u001b[0m \u001b[0;34m**\u001b[0m\u001b[0msend_kwargs\u001b[0m\u001b[0;34m)\u001b[0m\u001b[0;34m\u001b[0m\u001b[0;34m\u001b[0m\u001b[0m\n\u001b[0m\u001b[1;32m    543\u001b[0m \u001b[0;34m\u001b[0m\u001b[0m\n\u001b[1;32m    544\u001b[0m         \u001b[0;32mreturn\u001b[0m \u001b[0mresp\u001b[0m\u001b[0;34m\u001b[0m\u001b[0;34m\u001b[0m\u001b[0m\n",
      "\u001b[0;32m~/miniconda3/envs/signalboxml/lib/python3.7/site-packages/requests/sessions.py\u001b[0m in \u001b[0;36msend\u001b[0;34m(self, request, **kwargs)\u001b[0m\n\u001b[1;32m    653\u001b[0m \u001b[0;34m\u001b[0m\u001b[0m\n\u001b[1;32m    654\u001b[0m         \u001b[0;31m# Send the request\u001b[0m\u001b[0;34m\u001b[0m\u001b[0;34m\u001b[0m\u001b[0;34m\u001b[0m\u001b[0m\n\u001b[0;32m--> 655\u001b[0;31m         \u001b[0mr\u001b[0m \u001b[0;34m=\u001b[0m \u001b[0madapter\u001b[0m\u001b[0;34m.\u001b[0m\u001b[0msend\u001b[0m\u001b[0;34m(\u001b[0m\u001b[0mrequest\u001b[0m\u001b[0;34m,\u001b[0m \u001b[0;34m**\u001b[0m\u001b[0mkwargs\u001b[0m\u001b[0;34m)\u001b[0m\u001b[0;34m\u001b[0m\u001b[0;34m\u001b[0m\u001b[0m\n\u001b[0m\u001b[1;32m    656\u001b[0m \u001b[0;34m\u001b[0m\u001b[0m\n\u001b[1;32m    657\u001b[0m         \u001b[0;31m# Total elapsed time of the request (approximately)\u001b[0m\u001b[0;34m\u001b[0m\u001b[0;34m\u001b[0m\u001b[0;34m\u001b[0m\u001b[0m\n",
      "\u001b[0;32m~/miniconda3/envs/signalboxml/lib/python3.7/site-packages/requests/adapters.py\u001b[0m in \u001b[0;36msend\u001b[0;34m(self, request, stream, timeout, verify, cert, proxies)\u001b[0m\n\u001b[1;32m    514\u001b[0m                 \u001b[0;32mraise\u001b[0m \u001b[0mSSLError\u001b[0m\u001b[0;34m(\u001b[0m\u001b[0me\u001b[0m\u001b[0;34m,\u001b[0m \u001b[0mrequest\u001b[0m\u001b[0;34m=\u001b[0m\u001b[0mrequest\u001b[0m\u001b[0;34m)\u001b[0m\u001b[0;34m\u001b[0m\u001b[0;34m\u001b[0m\u001b[0m\n\u001b[1;32m    515\u001b[0m \u001b[0;34m\u001b[0m\u001b[0m\n\u001b[0;32m--> 516\u001b[0;31m             \u001b[0;32mraise\u001b[0m \u001b[0mConnectionError\u001b[0m\u001b[0;34m(\u001b[0m\u001b[0me\u001b[0m\u001b[0;34m,\u001b[0m \u001b[0mrequest\u001b[0m\u001b[0;34m=\u001b[0m\u001b[0mrequest\u001b[0m\u001b[0;34m)\u001b[0m\u001b[0;34m\u001b[0m\u001b[0;34m\u001b[0m\u001b[0m\n\u001b[0m\u001b[1;32m    517\u001b[0m \u001b[0;34m\u001b[0m\u001b[0m\n\u001b[1;32m    518\u001b[0m         \u001b[0;32mexcept\u001b[0m \u001b[0mClosedPoolError\u001b[0m \u001b[0;32mas\u001b[0m \u001b[0me\u001b[0m\u001b[0;34m:\u001b[0m\u001b[0;34m\u001b[0m\u001b[0;34m\u001b[0m\u001b[0m\n",
      "\u001b[0;31mConnectionError\u001b[0m: HTTPConnectionPool(host='localhost', port=6789): Max retries exceeded with url: / (Caused by NewConnectionError('<urllib3.connection.HTTPConnection object at 0x7f8ee849fb50>: Failed to establish a new connection: [Errno 61] Connection refused'))"
     ]
    }
   ],
   "source": [
    "# check the model works\n",
    "import requests\n",
    "import json\n",
    "\n",
    "uri = service.scoring_uri\n",
    "requests.get('http://localhost:6789')\n",
    "headers = {'Content-Type': 'application/json'}\n",
    "data_stringified = json.dumps(data)\n",
    "response = requests.post(uri, data=data_stringified, headers=headers)\n",
    "print('model responded with:')\n",
    "print(response.json())"
   ]
  },
  {
   "cell_type": "markdown",
   "id": "f8666922",
   "metadata": {},
   "source": [
    "## 5. Choose a compute target.\n",
    "\n",
    "[Learn more about choosing a target](https://docs.microsoft.com/en-us/azure/machine-learning/how-to-deploy-and-where?tabs=python#choose-a-compute-target)\n",
    "\n",
    "Options are:\n",
    "* Local web service: for testing and debugging\n",
    "* Azure Kubernetes Services: High scale production (probably don't do this without bigger discussion)\n",
    "* Azure Container Instances: Low scale, less than 48GB RAM\n",
    "* Azure Machine Learning compute cluster: best for batch inferencing\n"
   ]
  },
  {
   "cell_type": "markdown",
   "id": "3ca9861d",
   "metadata": {},
   "source": [
    "## 6. Re-deploy the model to the cloud\n",
    "\n",
    "Deploy to an Azure Container Instanec"
   ]
  },
  {
   "cell_type": "code",
   "execution_count": 99,
   "id": "20d28459",
   "metadata": {},
   "outputs": [],
   "source": [
    "from azureml.core.webservice import AciWebservice\n",
    "aci_deployment_config = AciWebservice.deploy_configuration(cpu_cores = 0.5, \n",
    "                                                           memory_gb = 1, \n",
    "                                                           tags=tags, \n",
    "                                                           auth_enabled=True)"
   ]
  },
  {
   "cell_type": "code",
   "execution_count": 103,
   "id": "724cd192",
   "metadata": {
    "scrolled": true
   },
   "outputs": [
    {
     "name": "stdout",
     "output_type": "stream",
     "text": [
      "Tips: You can try get_logs(): https://aka.ms/debugimage#dockerlog or local deployment: https://aka.ms/debugimage#debug-locally to debug if deployment takes longer than 10 minutes.\n",
      "Running\n",
      "2021-06-24 13:23:32+10:00 Creating Container Registry if not exists.\n",
      "2021-06-24 13:23:32+10:00 Registering the environment.\n",
      "2021-06-24 13:23:33+10:00 Use the existing image.\n",
      "2021-06-24 13:23:34+10:00 Generating deployment configuration.\n",
      "2021-06-24 13:23:35+10:00 Submitting deployment to compute..\n",
      "2021-06-24 13:23:38+10:00 Checking the status of deployment tutorial-service-aci..\n",
      "2021-06-24 13:25:24+10:00 Checking the status of inference endpoint tutorial-service-aci.\n",
      "Succeeded\n",
      "ACI service creation operation finished, operation \"Succeeded\"\n",
      "2021-06-24T03:25:05,401231500+00:00 - rsyslog/run \n",
      "2021-06-24T03:25:05,402201200+00:00 - nginx/run \n",
      "/usr/sbin/nginx: /azureml-envs/azureml_abe832532d68e7634ad48db5ac241baf/lib/libcrypto.so.1.0.0: no version information available (required by /usr/sbin/nginx)\n",
      "/usr/sbin/nginx: /azureml-envs/azureml_abe832532d68e7634ad48db5ac241baf/lib/libcrypto.so.1.0.0: no version information available (required by /usr/sbin/nginx)\n",
      "/usr/sbin/nginx: /azureml-envs/azureml_abe832532d68e7634ad48db5ac241baf/lib/libssl.so.1.0.0: no version information available (required by /usr/sbin/nginx)\n",
      "/usr/sbin/nginx: /azureml-envs/azureml_abe832532d68e7634ad48db5ac241baf/lib/libssl.so.1.0.0: no version information available (required by /usr/sbin/nginx)\n",
      "/usr/sbin/nginx: /azureml-envs/azureml_abe832532d68e7634ad48db5ac241baf/lib/libssl.so.1.0.0: no version information available (required by /usr/sbin/nginx)\n",
      "2021-06-24T03:25:05,408099900+00:00 - iot-server/run \n",
      "2021-06-24T03:25:05,434992200+00:00 - gunicorn/run \n",
      "EdgeHubConnectionString and IOTEDGE_IOTHUBHOSTNAME are not set. Exiting...\n",
      "2021-06-24T03:25:05,879474500+00:00 - iot-server/finish 1 0\n",
      "2021-06-24T03:25:05,880900600+00:00 - Exit code 1 is normal. Not restarting iot-server.\n",
      "Starting gunicorn 20.1.0\n",
      "Listening at: http://127.0.0.1:31311 (57)\n",
      "Using worker: sync\n",
      "worker timeout is set to 300\n",
      "Booting worker with pid: 86\n",
      "SPARK_HOME not set. Skipping PySpark Initialization.\n",
      "Initializing logger\n",
      "2021-06-24 03:25:06,984 | root | INFO | Starting up app insights client\n",
      "2021-06-24 03:25:06,987 | root | INFO | Starting up request id generator\n",
      "2021-06-24 03:25:06,987 | root | INFO | Starting up app insight hooks\n",
      "2021-06-24 03:25:06,988 | root | INFO | Invoking user's init function\n",
      "2021-06-24 03:25:06,988 | root | INFO | Users's init has completed successfully\n",
      "2021-06-24 03:25:06,991 | root | INFO | Skipping middleware: dbg_model_info as it's not enabled.\n",
      "2021-06-24 03:25:06,991 | root | INFO | Skipping middleware: dbg_resource_usage as it's not enabled.\n",
      "2021-06-24 03:25:06,992 | root | INFO | Scoring timeout is found from os.environ: 60000 ms\n",
      "2021-06-24 03:25:24,482 | root | INFO | Swagger file not present\n",
      "2021-06-24 03:25:24,483 | root | INFO | 404\n",
      "127.0.0.1 - - [24/Jun/2021:03:25:24 +0000] \"GET /swagger.json HTTP/1.0\" 404 19 \"-\" \"Go-http-client/1.1\"\n",
      "2021-06-24 03:25:31,926 | root | INFO | Swagger file not present\n",
      "2021-06-24 03:25:31,927 | root | INFO | 404\n",
      "127.0.0.1 - - [24/Jun/2021:03:25:31 +0000] \"GET /swagger.json HTTP/1.0\" 404 19 \"-\" \"Go-http-client/1.1\"\n",
      "\n"
     ]
    }
   ],
   "source": [
    "# this cell creates a new ACI deployed into Azure.\n",
    "service = Model.deploy(ws, \n",
    "                       \"tutorial-service-aci\", \n",
    "                       [model], \n",
    "                       inference_config, \n",
    "                       aci_deployment_config)\n",
    "\n",
    "service.wait_for_deployment(show_output=True)\n",
    "print(service.get_logs())"
   ]
  },
  {
   "cell_type": "markdown",
   "id": "f8b37e1b",
   "metadata": {},
   "source": [
    "## 7. Test the resulting web service.\n",
    "\n",
    "When you deploy remotely, you may have key authentication enabled. The example below shows how to get your service key with Python in order to make an inference request."
   ]
  },
  {
   "cell_type": "code",
   "execution_count": 107,
   "id": "fcc080f5",
   "metadata": {},
   "outputs": [
    {
     "name": "stdout",
     "output_type": "stream",
     "text": [
      "scoring uri:  http://9a084848-7f0b-4a8e-85f1-84719493df60.westus2.azurecontainer.io/score\n",
      "the model responded:\n",
      "{\"recommendedParameters\": {\"max\": 5, \"min\": 3, \"total\": 7}}\n",
      "{'recommendedParameters': {'max': 5, 'min': 3, 'total': 7}}\n",
      "time taken: 0.354373\n"
     ]
    }
   ],
   "source": [
    "import requests\n",
    "import json\n",
    "from azureml.core import Webservice\n",
    "\n",
    "service = Webservice(workspace=ws, name='tutorial-service-aci')\n",
    "scoring_uri = service.scoring_uri\n",
    "print('scoring uri: ', scoring_uri)\n",
    "\n",
    "# If the service is authenticated, set the key or token\n",
    "primary_key, _ = service.get_keys()\n",
    "\n",
    "# Set the appropriate headers\n",
    "headers = {'Content-Type': 'application/json'}\n",
    "headers['Authorization'] = f'Bearer {primary_key}'\n",
    "\n",
    "data_stringified = json.dumps(data)\n",
    "response = requests.post(scoring_uri, data=data_stringified, headers=headers)\n",
    "print('the model responded:')\n",
    "print(response.text)\n",
    "print(response.json())\n",
    "print('time taken:', response.elapsed.total_seconds())\n"
   ]
  },
  {
   "cell_type": "markdown",
   "id": "67b6f969",
   "metadata": {},
   "source": [
    "You can get the logs from the remote ACI"
   ]
  },
  {
   "cell_type": "code",
   "execution_count": 106,
   "id": "650ee75e",
   "metadata": {
    "scrolled": true
   },
   "outputs": [
    {
     "name": "stdout",
     "output_type": "stream",
     "text": [
      "2021-06-24T03:25:05,401231500+00:00 - rsyslog/run \n",
      "2021-06-24T03:25:05,402201200+00:00 - nginx/run \n",
      "/usr/sbin/nginx: /azureml-envs/azureml_abe832532d68e7634ad48db5ac241baf/lib/libcrypto.so.1.0.0: no version information available (required by /usr/sbin/nginx)\n",
      "/usr/sbin/nginx: /azureml-envs/azureml_abe832532d68e7634ad48db5ac241baf/lib/libcrypto.so.1.0.0: no version information available (required by /usr/sbin/nginx)\n",
      "/usr/sbin/nginx: /azureml-envs/azureml_abe832532d68e7634ad48db5ac241baf/lib/libssl.so.1.0.0: no version information available (required by /usr/sbin/nginx)\n",
      "/usr/sbin/nginx: /azureml-envs/azureml_abe832532d68e7634ad48db5ac241baf/lib/libssl.so.1.0.0: no version information available (required by /usr/sbin/nginx)\n",
      "/usr/sbin/nginx: /azureml-envs/azureml_abe832532d68e7634ad48db5ac241baf/lib/libssl.so.1.0.0: no version information available (required by /usr/sbin/nginx)\n",
      "2021-06-24T03:25:05,408099900+00:00 - iot-server/run \n",
      "2021-06-24T03:25:05,434992200+00:00 - gunicorn/run \n",
      "EdgeHubConnectionString and IOTEDGE_IOTHUBHOSTNAME are not set. Exiting...\n",
      "2021-06-24T03:25:05,879474500+00:00 - iot-server/finish 1 0\n",
      "2021-06-24T03:25:05,880900600+00:00 - Exit code 1 is normal. Not restarting iot-server.\n",
      "Starting gunicorn 20.1.0\n",
      "Listening at: http://127.0.0.1:31311 (57)\n",
      "Using worker: sync\n",
      "worker timeout is set to 300\n",
      "Booting worker with pid: 86\n",
      "SPARK_HOME not set. Skipping PySpark Initialization.\n",
      "Initializing logger\n",
      "2021-06-24 03:25:06,984 | root | INFO | Starting up app insights client\n",
      "2021-06-24 03:25:06,987 | root | INFO | Starting up request id generator\n",
      "2021-06-24 03:25:06,987 | root | INFO | Starting up app insight hooks\n",
      "2021-06-24 03:25:06,988 | root | INFO | Invoking user's init function\n",
      "2021-06-24 03:25:06,988 | root | INFO | Users's init has completed successfully\n",
      "2021-06-24 03:25:06,991 | root | INFO | Skipping middleware: dbg_model_info as it's not enabled.\n",
      "2021-06-24 03:25:06,991 | root | INFO | Skipping middleware: dbg_resource_usage as it's not enabled.\n",
      "2021-06-24 03:25:06,992 | root | INFO | Scoring timeout is found from os.environ: 60000 ms\n",
      "2021-06-24 03:25:24,482 | root | INFO | Swagger file not present\n",
      "2021-06-24 03:25:24,483 | root | INFO | 404\n",
      "127.0.0.1 - - [24/Jun/2021:03:25:24 +0000] \"GET /swagger.json HTTP/1.0\" 404 19 \"-\" \"Go-http-client/1.1\"\n",
      "2021-06-24 03:25:31,926 | root | INFO | Swagger file not present\n",
      "2021-06-24 03:25:31,927 | root | INFO | 404\n",
      "127.0.0.1 - - [24/Jun/2021:03:25:31 +0000] \"GET /swagger.json HTTP/1.0\" 404 19 \"-\" \"Go-http-client/1.1\"\n",
      "2021-06-24 03:25:34,474 | root | INFO | Swagger file not present\n",
      "2021-06-24 03:25:34,474 | root | INFO | 404\n",
      "127.0.0.1 - - [24/Jun/2021:03:25:34 +0000] \"GET /swagger.json HTTP/1.0\" 404 19 \"-\" \"Go-http-client/1.1\"\n",
      "2021-06-24 03:25:37,555 | root | INFO | Validation Request Content-Type\n",
      "2021-06-24 03:25:37,556 | root | INFO | Scoring Timer is set to 60.0 seconds\n",
      "{\"version\": \"parameter-set-1\", \"payload\": {\"arguments\": {\"arg1\": 5, \"arg2\": 7}, \"parameterBounds\": [{\"commonId\": \"max\", \"parameterType\": \"numeric\", \"numericBounds\": {\"min\": 10, \"max\": 100}}, {\"commonId\": \"min\", \"parameterType\": \"numeric\", \"numericBounds\": {\"min\": 0, \"max\": 50}}]}}\n",
      "[{'commonId': 'max', 'parameterType': 'numeric', 'numericBounds': {'min': 10, 'max': 100}}, {'commonId': 'min', 'parameterType': 'numeric', 'numericBounds': {'min': 0, 'max': 50}}]\n",
      "{'arg1': 5, 'arg2': 7}\n",
      "model params:\n",
      "[0.6, 0.3, 0.1]\n",
      "recommendation:\n",
      "{'max': 5, 'min': 3, 'total': 7}\n",
      "2021-06-24 03:25:37,559 | root | INFO | 200\n",
      "127.0.0.1 - - [24/Jun/2021:03:25:37 +0000] \"POST /score HTTP/1.0\" 200 59 \"-\" \"python-requests/2.25.1\"\n",
      "2021-06-24 03:27:19,352 | root | INFO | Validation Request Content-Type\n",
      "2021-06-24 03:27:19,352 | root | INFO | Scoring Timer is set to 60.0 seconds\n",
      "{\"version\":\"default\",\"payload\":{\"arguments\":{\"count\":\"5\"},\"parameterSetRecommenderId\":3,\"parameterBounds\":[{\"commonId\":\"test\",\"numericBounds\":{\"min\":50,\"max\":500},\"categoricalBounds\":null}]}}\n",
      "[{'commonId': 'test', 'numericBounds': {'min': 50, 'max': 500}, 'categoricalBounds': None}]\n",
      "{'count': '5'}\n",
      "model params:\n",
      "[0.6, 0.3, 0.1]\n",
      "recommendation:\n",
      "{'max': 10, 'min': 5, 'total': 55}\n",
      "2021-06-24 03:27:19,354 | root | INFO | 200\n",
      "127.0.0.1 - - [24/Jun/2021:03:27:19 +0000] \"POST /score HTTP/1.0\" 200 61 \"-\" \"Go-http-client/1.1\"\n",
      "2021-06-24 03:29:21,724 | root | INFO | Validation Request Content-Type\n",
      "2021-06-24 03:29:21,725 | root | INFO | Scoring Timer is set to 60.0 seconds\n",
      "{\"version\":\"default\",\"payload\":{\"arguments\":{\"count\":\"5\"},\"parameterSetRecommenderId\":3,\"parameterBounds\":[{\"commonId\":\"test\",\"numericBounds\":{\"min\":50,\"max\":500},\"categoricalBounds\":null}]}}\n",
      "[{'commonId': 'test', 'numericBounds': {'min': 50, 'max': 500}, 'categoricalBounds': None}]\n",
      "{'count': '5'}\n",
      "model params:\n",
      "[0.6, 0.3, 0.1]\n",
      "recommendation:\n",
      "{'max': 5, 'min': 3, 'total': 7}\n",
      "2021-06-24 03:29:21,726 | root | INFO | 200\n",
      "127.0.0.1 - - [24/Jun/2021:03:29:21 +0000] \"POST /score HTTP/1.0\" 200 59 \"-\" \"Go-http-client/1.1\"\n",
      "2021-06-24 03:29:59,550 | root | INFO | Validation Request Content-Type\n",
      "2021-06-24 03:29:59,551 | root | INFO | Scoring Timer is set to 60.0 seconds\n",
      "{\"version\":\"default\",\"payload\":{\"arguments\":{\"count\":\"5\"},\"parameterSetRecommenderId\":3,\"parameterBounds\":[{\"commonId\":\"test\",\"numericBounds\":{\"min\":50,\"max\":500},\"categoricalBounds\":null}]}}\n",
      "[{'commonId': 'test', 'numericBounds': {'min': 50, 'max': 500}, 'categoricalBounds': None}]\n",
      "{'count': '5'}\n",
      "model params:\n",
      "[0.6, 0.3, 0.1]\n",
      "recommendation:\n",
      "{'max': 20, 'min': 10, 'total': 15}\n",
      "2021-06-24 03:29:59,553 | root | INFO | 200\n",
      "127.0.0.1 - - [24/Jun/2021:03:29:59 +0000] \"POST /score HTTP/1.0\" 200 62 \"-\" \"Go-http-client/1.1\"\n",
      "2021-06-24 03:30:03,651 | root | INFO | Validation Request Content-Type\n",
      "2021-06-24 03:30:03,652 | root | INFO | Scoring Timer is set to 60.0 seconds\n",
      "{\"version\":\"default\",\"payload\":{\"arguments\":{\"count\":\"8\"},\"parameterSetRecommenderId\":3,\"parameterBounds\":[{\"commonId\":\"test\",\"numericBounds\":{\"min\":50,\"max\":500},\"categoricalBounds\":null}]}}\n",
      "[{'commonId': 'test', 'numericBounds': {'min': 50, 'max': 500}, 'categoricalBounds': None}]\n",
      "{'count': '8'}\n",
      "model params:\n",
      "[0.6, 0.3, 0.1]\n",
      "recommendation:\n",
      "{'max': 5, 'min': 3, 'total': 7}\n",
      "2021-06-24 03:30:03,653 | root | INFO | 200\n",
      "127.0.0.1 - - [24/Jun/2021:03:30:03 +0000] \"POST /score HTTP/1.0\" 200 59 \"-\" \"Go-http-client/1.1\"\n",
      "2021-06-24 03:30:25,631 | root | INFO | Validation Request Content-Type\n",
      "2021-06-24 03:30:25,631 | root | INFO | Scoring Timer is set to 60.0 seconds\n",
      "{\"version\":\"default\",\"payload\":{\"arguments\":{\"count\":0},\"parameterSetRecommenderId\":3,\"parameterBounds\":[{\"commonId\":\"test\",\"numericBounds\":{\"min\":50,\"max\":500},\"categoricalBounds\":null}]}}\n",
      "[{'commonId': 'test', 'numericBounds': {'min': 50, 'max': 500}, 'categoricalBounds': None}]\n",
      "{'count': 0}\n",
      "model params:\n",
      "[0.6, 0.3, 0.1]\n",
      "recommendation:\n",
      "{'max': 10, 'min': 5, 'total': 55}\n",
      "2021-06-24 03:30:25,633 | root | INFO | 200\n",
      "127.0.0.1 - - [24/Jun/2021:03:30:25 +0000] \"POST /score HTTP/1.0\" 200 61 \"-\" \"Go-http-client/1.1\"\n",
      "2021-06-24 03:30:39,196 | root | INFO | Validation Request Content-Type\n",
      "2021-06-24 03:30:39,196 | root | INFO | Scoring Timer is set to 60.0 seconds\n",
      "{\"version\":\"default\",\"payload\":{\"arguments\":{\"count\":0},\"parameterSetRecommenderId\":3,\"parameterBounds\":[{\"commonId\":\"test\",\"numericBounds\":{\"min\":50,\"max\":500},\"categoricalBounds\":null}]}}\n",
      "[{'commonId': 'test', 'numericBounds': {'min': 50, 'max': 500}, 'categoricalBounds': None}]\n",
      "{'count': 0}\n",
      "model params:\n",
      "[0.6, 0.3, 0.1]\n",
      "recommendation:\n",
      "{'max': 5, 'min': 3, 'total': 7}\n",
      "2021-06-24 03:30:39,197 | root | INFO | 200\n",
      "127.0.0.1 - - [24/Jun/2021:03:30:39 +0000] \"POST /score HTTP/1.0\" 200 59 \"-\" \"Go-http-client/1.1\"\n",
      "2021-06-24 03:31:02,136 | root | INFO | Validation Request Content-Type\n",
      "2021-06-24 03:31:02,137 | root | INFO | Scoring Timer is set to 60.0 seconds\n",
      "{\"version\":\"default\",\"payload\":{\"arguments\":{\"count\":0},\"parameterSetRecommenderId\":3,\"parameterBounds\":[{\"commonId\":\"test\",\"numericBounds\":{\"min\":50,\"max\":500},\"categoricalBounds\":null}]}}\n",
      "[{'commonId': 'test', 'numericBounds': {'min': 50, 'max': 500}, 'categoricalBounds': None}]\n",
      "{'count': 0}\n",
      "model params:\n",
      "[0.6, 0.3, 0.1]\n",
      "recommendation:\n",
      "{'max': 10, 'min': 5, 'total': 55}\n",
      "2021-06-24 03:31:02,139 | root | INFO | 200\n",
      "127.0.0.1 - - [24/Jun/2021:03:31:02 +0000] \"POST /score HTTP/1.0\" 200 61 \"-\" \"Go-http-client/1.1\"\n",
      "2021-06-24 03:31:34,129 | root | INFO | Validation Request Content-Type\n",
      "2021-06-24 03:31:34,129 | root | INFO | Scoring Timer is set to 60.0 seconds\n",
      "{\"version\":\"default\",\"payload\":{\"arguments\":{\"count\":0},\"parameterSetRecommenderId\":3,\"parameterBounds\":[{\"commonId\":\"test\",\"numericBounds\":{\"min\":50,\"max\":500},\"categoricalBounds\":null}]}}\n",
      "[{'commonId': 'test', 'numericBounds': {'min': 50, 'max': 500}, 'categoricalBounds': None}]\n",
      "{'count': 0}\n",
      "model params:\n",
      "[0.6, 0.3, 0.1]\n",
      "recommendation:\n",
      "{'max': 10, 'min': 5, 'total': 55}\n",
      "2021-06-24 03:31:34,131 | root | INFO | 200\n",
      "127.0.0.1 - - [24/Jun/2021:03:31:34 +0000] \"POST /score HTTP/1.0\" 200 61 \"-\" \"Go-http-client/1.1\"\n",
      "2021-06-24 03:32:46,649 | root | INFO | Validation Request Content-Type\n",
      "2021-06-24 03:32:46,649 | root | INFO | Scoring Timer is set to 60.0 seconds\n",
      "{\"version\":\"default\",\"payload\":{\"arguments\":{\"count\":0},\"parameterSetRecommenderId\":3,\"parameterBounds\":[{\"commonId\":\"test\",\"numericBounds\":{\"min\":50,\"max\":500},\"categoricalBounds\":null}]}}\n",
      "[{'commonId': 'test', 'numericBounds': {'min': 50, 'max': 500}, 'categoricalBounds': None}]\n",
      "{'count': 0}\n",
      "model params:\n",
      "[0.6, 0.3, 0.1]\n",
      "recommendation:\n",
      "{'max': 5, 'min': 3, 'total': 7}\n",
      "2021-06-24 03:32:46,650 | root | INFO | 200\n",
      "127.0.0.1 - - [24/Jun/2021:03:32:46 +0000] \"POST /score HTTP/1.0\" 200 59 \"-\" \"Go-http-client/1.1\"\n",
      "2021-06-24 04:40:18,183 | root | INFO | Validation Request Content-Type\n",
      "2021-06-24 04:40:18,184 | root | INFO | Scoring Timer is set to 60.0 seconds\n",
      "2021-06-24 04:40:18,186 | root | ERROR | Encountered Exception: Traceback (most recent call last):\n",
      "  File \"/var/azureml-server/synchronous/routes.py\", line 64, in run_scoring\n",
      "    response = invoke_user_with_timer(service_input, request_headers)\n",
      "  File \"/var/azureml-server/synchronous/routes.py\", line 97, in invoke_user_with_timer\n",
      "    result = user_main.run(**params)\n",
      "  File \"/var/azureml-app/source_dir/./entry.py\", line 34, in run\n",
      "    body = json.loads(request)\n",
      "  File \"/azureml-envs/azureml_abe832532d68e7634ad48db5ac241baf/lib/python3.6/json/__init__.py\", line 354, in loads\n",
      "    return _default_decoder.decode(s)\n",
      "  File \"/azureml-envs/azureml_abe832532d68e7634ad48db5ac241baf/lib/python3.6/json/decoder.py\", line 339, in decode\n",
      "    obj, end = self.raw_decode(s, idx=_w(s, 0).end())\n",
      "  File \"/azureml-envs/azureml_abe832532d68e7634ad48db5ac241baf/lib/python3.6/json/decoder.py\", line 357, in raw_decode\n",
      "    raise JSONDecodeError(\"Expecting value\", s, err.value) from None\n",
      "json.decoder.JSONDecodeError: Expecting value: line 1 column 1 (char 0)\n",
      "\n",
      "During handling of the above exception, another exception occurred:\n",
      "\n",
      "Traceback (most recent call last):\n",
      "  File \"/azureml-envs/azureml_abe832532d68e7634ad48db5ac241baf/lib/python3.6/site-packages/flask/app.py\", line 1832, in full_dispatch_request\n",
      "    rv = self.dispatch_request()\n",
      "  File \"/azureml-envs/azureml_abe832532d68e7634ad48db5ac241baf/lib/python3.6/site-packages/flask/app.py\", line 1818, in dispatch_request\n",
      "    return self.view_functions[rule.endpoint](**req.view_args)\n",
      "  File \"/var/azureml-server/synchronous/routes.py\", line 43, in score_realtime\n",
      "    return run_scoring(service_input, request.headers, request.environ.get('REQUEST_ID', '00000000-0000-0000-0000-000000000000'))\n",
      "  File \"/var/azureml-server/synchronous/routes.py\", line 77, in run_scoring\n",
      "    raise RunFunctionException(str(exc))\n",
      "run_function_exception.RunFunctionException\n",
      "\n",
      "2021-06-24 04:40:18,186 | root | INFO | 500\n",
      "127.0.0.1 - - [24/Jun/2021:04:40:18 +0000] \"POST /score HTTP/1.0\" 500 41 \"-\" \"Go-http-client/1.1\"\n",
      "\n"
     ]
    }
   ],
   "source": [
    "print(service.get_logs())"
   ]
  },
  {
   "cell_type": "markdown",
   "id": "24171621",
   "metadata": {},
   "source": [
    "## Required information in Four2"
   ]
  },
  {
   "cell_type": "code",
   "execution_count": 105,
   "id": "29d4f14d",
   "metadata": {},
   "outputs": [
    {
     "name": "stdout",
     "output_type": "stream",
     "text": [
      "scoring url: http://9a084848-7f0b-4a8e-85f1-84719493df60.westus2.azurecontainer.io/score\n",
      "key cWAz6IhpSMeNesNnNCsQhglQlG6NdGn5\n"
     ]
    }
   ],
   "source": [
    "print('scoring url:', scoring_uri)\n",
    "print('key', primary_key)"
   ]
  },
  {
   "cell_type": "markdown",
   "id": "ce3ff3d3",
   "metadata": {},
   "source": [
    "## WELL DONE!\n",
    "\n",
    "You deployed your first model!\n",
    "\n",
    "The next part is making it intelligent.\n",
    "\n",
    "But first, clean up the resources you created."
   ]
  },
  {
   "cell_type": "code",
   "execution_count": 69,
   "id": "6c7d6548",
   "metadata": {},
   "outputs": [
    {
     "name": "stdout",
     "output_type": "stream",
     "text": [
      "Container has been successfully cleaned up.\n"
     ]
    }
   ],
   "source": [
    "# delete the ACI service you created\n",
    "service.delete()"
   ]
  },
  {
   "cell_type": "code",
   "execution_count": 136,
   "id": "cc80d28c",
   "metadata": {},
   "outputs": [],
   "source": [
    "# delete all the models we created\n",
    "models = Model.list(ws, name=model_parameters['name'])\n",
    "for m in models:\n",
    "    print('deleting', model.name, 'version:' , model.version)\n",
    "    m.delete()"
   ]
  },
  {
   "cell_type": "code",
   "execution_count": null,
   "id": "b9354ff7",
   "metadata": {},
   "outputs": [],
   "source": []
  }
 ],
 "metadata": {
  "kernelspec": {
   "display_name": "Python 3",
   "language": "python",
   "name": "python3"
  },
  "language_info": {
   "codemirror_mode": {
    "name": "ipython",
    "version": 3
   },
   "file_extension": ".py",
   "mimetype": "text/x-python",
   "name": "python",
   "nbconvert_exporter": "python",
   "pygments_lexer": "ipython3",
   "version": "3.7.10"
  }
 },
 "nbformat": 4,
 "nbformat_minor": 5
}
