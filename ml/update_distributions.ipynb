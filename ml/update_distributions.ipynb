{
  "cells": [
    {
      "cell_type": "code",
      "source": [
        "import random\n",
        "import numpy as np\n",
        "import matplotlib.pyplot as plt\n",
        "import pandas as pd\n",
        "import math\n",
        "from pandas.io.json import json_normalize\n",
        "\n",
        "# azureml-core of version 1.0.72 or higher is required\n",
        "# azureml-dataprep[pandas] of version 1.1.34 or higher is required\n",
        "from azureml.core import Workspace, Dataset\n",
        "\n",
        "subscription_id = '04b1ca0e-558c-48d0-ba28-fee796a82076'\n",
        "resource_group = 'analytics2040c59b'\n",
        "workspace_name = 'VitableML'\n",
        "\n",
        "workspace = Workspace(subscription_id, resource_group, workspace_name)\n",
        "parameterFilename = 'models/prod_quiz_parameter_recommender/source_files/vitableParameters.csv'\n",
        "parameterList = np.genfromtxt(parameterFilename, delimiter=',', dtype='<U12')\n",
        "sep_pt = '.'\n",
        "\n",
        "sample_outcomes_filepath = \"second_outcomes.csv\"\n",
        "previous_distribution_filepath = 'models/prod_quiz_parameter_recommender/source_files/vitableDistributionCurrent.csv'\n",
        "new_distribution_filepath = \"third_distribution\"\n",
        "\n",
        "target_variable = 0.0\n",
        "N_parameters = len(parameterList)\n",
        "\n",
        "update_distribution_weighting = 0.5\n",
        "confidence_0p5_pt = 15.0\n",
        "confidence_slope = 0.2"
      ],
      "outputs": [],
      "execution_count": 5,
      "metadata": {
        "gather": {
          "logged": 1629354771502
        }
      }
    },
    {
      "cell_type": "code",
      "source": [
        "## update distribution\n",
        "def update_distribution(target_variable_results, prior_distribution, confidence):\n",
        "    \n",
        "    target_variable_distribution = target_variable_results/np.mean(target_variable_results)*confidence/np.mean(confidence)\n",
        "    #relative_distribution_difference = np.nan_to_num((target_variable_results - prior_distribution)/prior_distribution)#*confidence)\n",
        "    new_distribution = prior_distribution*(1.0-update_distribution_weighting+update_distribution_weighting*target_variable_distribution)\n",
        "    new_distribution = new_distribution/sum(new_distribution)\n",
        "\n",
        "    return new_distribution\n",
        "\n",
        "## confidence function\n",
        "\n",
        "def confidence_sigmoid(vector):\n",
        "    confidence_value = np.zeros(len(vector))\n",
        "\n",
        "    for x in range(len(vector)):\n",
        "        confidence_value[x] = 1.0/(1.0 + math.exp(-confidence_slope*(vector[x]-confidence_0p5_pt)))\n",
        "\n",
        "    return confidence_value\n",
        "\n",
        "def update_distribution_from_tracker_user_behaviour(offers_summary, accepts_summary, population_benefits, prior_distribution, new_distribution_id, parameters_vector):\n",
        "\n",
        "    ## WE ESTIMATE HOW CONFIDENT WE ARE IN EACH OUTCOME BEING SIGNIFICANT\n",
        "    confidence = confidence_sigmoid(offers_summary)\n",
        "    print('Calculated confidence')\n",
        "    \n",
        "    ## WE UPDATE THE PREVIOUS DISTRIBUTION BASED ON THE EVENTS WE HAVE SEEN\n",
        "    new_distribution = update_distribution(population_benefits, prior_distribution, confidence)\n",
        "    print('Created new distribution')\n",
        "\n",
        "    ## EXPORT NEW DISTRIBUTION\n",
        "    distribution_save = new_distribution\n",
        "    np.savetxt(sep_pt.join([new_distribution_id,'csv']), distribution_save, delimiter = \",\", fmt='%s')\n",
        "\n",
        "    return new_distribution \n",
        "\n",
        "def create_customer_outcomes_summary(parameterList,customer_array):\n",
        "\n",
        "    N_parameters = len(parameterList)\n",
        "    store_array = np.zeros([N_parameters,10])\n",
        "\n",
        "    for i in range(N_parameters):\n",
        "        split_parameter = parameterList[i].split(\"_\")\n",
        "        store_array[i,0] = int(split_parameter[0])\n",
        "        store_array[i,1] = int(split_parameter[1])\n",
        "        store_array[i,2] = int(split_parameter[2])\n",
        "        #store_array[i,3] = int(split_parameter[3])\n",
        "        #store_array[i,4] = int(split_parameter[4])\n",
        "\n",
        "    N_customers = len(customer_array)\n",
        "\n",
        "\n",
        "    store_array[:,[5,6,7,8,9]] = 0\n",
        "    for n_customer in range(N_customers):\n",
        "        for n_parameter in range(N_parameters):\n",
        "            if int(customer_array[n_customer,1]) == store_array[n_parameter,0]:\n",
        "                if int(customer_array[n_customer,2]) == store_array[n_parameter,1]:\n",
        "                    if int(customer_array[n_customer,3]) == store_array[n_parameter,2]:\n",
        "                        #if int(customer_array[n_customer,3]) == store_array[n_parameter,3]:\n",
        "                        #    if int(customer_array[n_customer,4]) == store_array[n_parameter,4]:\n",
        "\n",
        "                        store_array[n_parameter,5] = store_array[n_parameter,5] + 1 ## Someone accepted the recommendation\n",
        "\n",
        "                        if int(customer_array[n_customer,5]) == 1:  ## Someone purchased the recommendation\n",
        "                            store_array[n_parameter,6] = store_array[n_parameter,6] + 1\n",
        "                            store_array[n_parameter,7] = store_array[n_parameter,7] + int(customer_array[n_customer,5])\n",
        "\n",
        "    ## Store array 8 is average revenue per invoked recommendation \n",
        "    store_array[:,8] = store_array[:,7]/store_array[:,5]\n",
        "    store_array = np.nan_to_num(store_array).copy()\n",
        "\n",
        "    ## Pull out the total average revenue per invoked recommendation\n",
        "    target_variable = np.sum(store_array[:,7])/np.sum(store_array[:,5]) \n",
        "\n",
        "    sample_distribution = store_array[:,5]/sum(store_array[:,5])\n",
        "\n",
        "    # GET NUMBER OF OFFERS AND ACCEPTS FROM OUTCOMES\n",
        "    new_distribution = update_distribution_from_tracker_user_behaviour(store_array[:,5], store_array[:,6], store_array[:,8], sample_distribution, new_distribution_filepath, parameterList)\n",
        "    store_array[:,9] = new_distribution\n",
        "\n",
        "    return store_array, target_variable"
      ],
      "outputs": [],
      "execution_count": 6,
      "metadata": {
        "collapsed": true,
        "jupyter": {
          "source_hidden": false,
          "outputs_hidden": false
        },
        "nteract": {
          "transient": {
            "deleting": false
          }
        },
        "gather": {
          "logged": 1629354772791
        }
      }
    },
    {
      "cell_type": "code",
      "source": [
        "\r\n",
        "customer_array = np.array(pd.read_csv(sample_outcomes_filepath))\r\n",
        "\r\n",
        "store_array, target_variable = create_customer_outcomes_summary(parameterList,customer_array)\r\n",
        "\r\n",
        "## Compare distributions\r\n",
        "previous_distribution = np.genfromtxt(previous_distribution_filepath, delimiter=',')\r\n",
        "plt.plot(previous_distribution,'k')\r\n",
        "plt.plot(store_array[:,5]/sum(store_array[:,5]),'g')\r\n",
        "plt.plot(store_array[:,9],'r')\r\n",
        "plt.yscale('log')\r\n",
        "plt.show()\r\n"
      ],
      "outputs": [
        {
          "output_type": "stream",
          "name": "stderr",
          "text": [
            "/anaconda/envs/azureml_py36/lib/python3.6/site-packages/ipykernel_launcher.py:35: RuntimeWarning: invalid value encountered in true_divide\n"
          ]
        },
        {
          "output_type": "stream",
          "name": "stdout",
          "text": [
            "Calculated confidence\n",
            "Created new distribution\n"
          ]
        },
        {
          "output_type": "display_data",
          "data": {
            "text/plain": "<Figure size 432x288 with 1 Axes>",
            "image/png": "[encoded data removed]"
          },
          "metadata": {
            "needs_background": "light"
          }
        }
      ],
      "execution_count": 9,
      "metadata": {
        "collapsed": true,
        "jupyter": {
          "source_hidden": false,
          "outputs_hidden": false
        },
        "nteract": {
          "transient": {
            "deleting": false
          }
        },
        "gather": {
          "logged": 1629354875851
        }
      }
    },
    {
      "cell_type": "code",
      "source": [
        "print('Hello')"
      ],
      "outputs": [
        {
          "output_type": "stream",
          "name": "stdout",
          "text": [
            "Hello\n"
          ]
        }
      ],
      "execution_count": 2,
      "metadata": {
        "collapsed": true,
        "jupyter": {
          "source_hidden": false,
          "outputs_hidden": false
        },
        "nteract": {
          "transient": {
            "deleting": false
          }
        },
        "gather": {
          "logged": 1629347131144
        }
      }
    }
  ],
  "metadata": {
    "kernelspec": {
      "name": "python3-azureml",
      "language": "python",
      "display_name": "Python 3.6 - AzureML"
    },
    "language_info": {
      "name": "python",
      "version": "3.6.9",
      "mimetype": "text/x-python",
      "codemirror_mode": {
        "name": "ipython",
        "version": 3
      },
      "pygments_lexer": "ipython3",
      "nbconvert_exporter": "python",
      "file_extension": ".py"
    },
    "kernel_info": {
      "name": "python3-azureml"
    },
    "nteract": {
      "version": "nteract-front-end@1.0.0"
    },
    "microsoft": {
      "host": {
        "AzureML": {
          "notebookHasBeenCompleted": true
        }
      }
    }
  },
  "nbformat": 4,
  "nbformat_minor": 2
}