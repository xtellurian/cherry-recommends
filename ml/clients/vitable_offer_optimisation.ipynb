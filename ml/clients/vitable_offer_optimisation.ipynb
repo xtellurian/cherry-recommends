{
  "cells": [
    {
      "cell_type": "code",
      "source": [
        "import random\r\n",
        "import numpy as np\r\n",
        "import matplotlib.pyplot as plt\r\n",
        "import pandas as pd\r\n",
        "import math\r\n",
        "\r\n",
        "# azureml-core of version 1.0.72 or higher is required\r\n",
        "# azureml-dataprep[pandas] of version 1.1.34 or higher is required\r\n",
        "from azureml.core import Workspace, Dataset\r\n",
        "\r\n",
        "subscription_id = '651f2ed5-6e2f-41d0-b533-0cd28801ef2a'\r\n",
        "resource_group = 'data'\r\n",
        "workspace_name = 'data-workspace05a7960'\r\n",
        "\r\n",
        "workspace = Workspace(subscription_id, resource_group, workspace_name)\r\n"
      ],
      "outputs": [],
      "execution_count": 80,
      "metadata": {
        "gather": {
          "logged": 1625806259766
        }
      }
    },
    {
      "cell_type": "code",
      "source": [
        "## get new outcomes\r\n",
        "def get_benefit_outcome_rates(offers_summary, accepts_summary,benefits):\r\n",
        "\r\n",
        "    individual_outcome_rates = np.nan_to_num(accepts_summary/offers_summary)\r\n",
        "    benefit_outcome_rates = (individual_outcome_rates*benefits)/sum(individual_outcome_rates*benefits)\r\n",
        "\r\n",
        "    return benefit_outcome_rates\r\n",
        "\r\n",
        "## update distribution\r\n",
        "def update_distribution(benefit_outcome_rates, prior_distribution, confidence):\r\n",
        "    relative_distribution_difference = np.nan_to_num((benefit_outcome_rates - prior_distribution)/prior_distribution*confidence)\r\n",
        "\r\n",
        "    new_distribution = prior_distribution*(1+0.5*relative_distribution_difference)\r\n",
        "\r\n",
        "    new_distribution = new_distribution/sum(new_distribution)\r\n",
        "    return new_distribution\r\n",
        "\r\n",
        "## get confidence measure\r\n",
        "def get_confidence(offers_summary):\r\n",
        "\r\n",
        "    confidence = offers_summary/sum(offers_summary)*50\r\n",
        "\r\n",
        "    return confidence\r\n",
        "\r\n",
        "## Create toy_data\r\n",
        "def simulate_customers(N_customers, parameters_vector, distribution_vector, segments):\r\n",
        "    customer_array = np.zeros([N_customers,7], dtype=object)\r\n",
        "    for customer in range(N_customers):\r\n",
        "        customer_parameters = np.random.choice(parameters_vector, p = distribution_vector).split('_')\r\n",
        "        customer_array[customer,0] = customer\r\n",
        "        customer_array[customer,1] = np.random.choice(segments)\r\n",
        "        customer_array[customer,2] = customer_parameters[0]\r\n",
        "        customer_array[customer,3] = customer_parameters[1]\r\n",
        "        customer_array[customer,4] = customer_parameters[2]\r\n",
        "        customer_array[customer,5] = np.random.choice([0,1], p = [0.7, 0.3])\r\n",
        "        customer_array[customer,6] = np.random.randint(30,150)*customer_array[customer,5]\r\n",
        "\r\n",
        "    return customer_array\r\n",
        "\r\n",
        "## confidence function\r\n",
        "\r\n",
        "def confidence(vector):\r\n",
        "    confidence_value = np.zeros(len(vector))\r\n",
        "\r\n",
        "    for x in range(len(vector)):\r\n",
        "        confidence_value[x] = 1.0/(1.0 + math.exp(-0.5*(vector[x]-25.0)))\r\n",
        "\r\n",
        "    return confidence_value"
      ],
      "outputs": [],
      "execution_count": 100,
      "metadata": {
        "collapsed": true,
        "jupyter": {
          "source_hidden": false,
          "outputs_hidden": false
        },
        "nteract": {
          "transient": {
            "deleting": false
          }
        },
        "gather": {
          "logged": 1625806650670
        }
      }
    },
    {
      "cell_type": "code",
      "source": [
        "## Set up experiement\r\n",
        "\r\n",
        "T = 2\r\n",
        "N_offers = 5\r\n",
        "Initial_offer = 2\r\n",
        "segments = ['AA', 'AB', 'AC', 'BA', 'BB', 'BC']"
      ],
      "outputs": [],
      "execution_count": 14,
      "metadata": {
        "collapsed": true,
        "jupyter": {
          "source_hidden": false,
          "outputs_hidden": false
        },
        "nteract": {
          "transient": {
            "deleting": false
          }
        },
        "gather": {
          "logged": 1625803796460
        }
      }
    },
    {
      "cell_type": "code",
      "source": [
        "### Create initial distribution\r\n",
        "parameter_1_list = [1,2,3,4,5]\r\n",
        "parameter_2_list = [0,1,2]\r\n",
        "parameter_3_list = [40,50,60,70,80] \r\n",
        "parameter_1_p = [0.2,0.2,0.2,0.2,0.2]\r\n",
        "parameter_2_p = [0.1,0.1,0.8]\r\n",
        "parameter_3_p = [0.2,0.2,0.2,0.2,0.2] \r\n",
        "sep = \"_\" \r\n",
        "\r\n",
        "distribution_matrix = np.zeros([len(parameter_1_list), len(parameter_2_list), len(parameter_3_list)])\r\n",
        "parameters_matrix = np.zeros([len(parameter_1_list), len(parameter_2_list), len(parameter_3_list)], dtype=object)\r\n",
        "\r\n",
        "for i in range(len(parameter_1_list)):\r\n",
        "    for j in range(len(parameter_2_list)):\r\n",
        "        for k in range(len(parameter_3_list)):\r\n",
        "             distribution_matrix[i,j,k] = parameter_1_p[i]*parameter_2_p[j]*parameter_3_p[k]\r\n",
        "             parameters_matrix[i,j,k] = sep.join([str(parameter_1_list[i]),str(parameter_2_list[j]),str(parameter_3_list[k])])\r\n",
        "\r\n",
        "distribution_vector = distribution_matrix.flatten(order = \"A\")\r\n",
        "parameters_vector = parameters_matrix.flatten(order = \"A\")"
      ],
      "outputs": [],
      "execution_count": 54,
      "metadata": {
        "collapsed": true,
        "jupyter": {
          "source_hidden": false,
          "outputs_hidden": false
        },
        "nteract": {
          "transient": {
            "deleting": false
          }
        },
        "gather": {
          "logged": 1625805481499
        }
      }
    },
    {
      "cell_type": "code",
      "source": [
        "### CREATE TOY DATA\r\n",
        "N_customers = 100000\r\n",
        "customer_array = simulate_customers(N_customers, parameters_vector, distribution_vector, segments)"
      ],
      "outputs": [],
      "execution_count": 75,
      "metadata": {
        "collapsed": true,
        "jupyter": {
          "source_hidden": false,
          "outputs_hidden": false
        },
        "nteract": {
          "transient": {
            "deleting": false
          }
        },
        "gather": {
          "logged": 1625806036539
        }
      }
    },
    {
      "cell_type": "code",
      "source": [
        "outcome_events = pd.DataFrame({'ID': customer_array[:, 0], 'Segment': customer_array[:, 1], 'Parameter_1': customer_array[:, 2], 'Parameter_2': customer_array[:, 3], 'Parameter_3': customer_array[:, 4], 'Bought': customer_array[:, 5], 'Basket_value': customer_array[:, 6]})\r\n",
        "outcome_events = outcome_events.set_index('ID')\r\n",
        "## Process outcomes\r\n",
        "outcome_events['Parameter_mix'] = outcome_events[['Parameter_1', 'Parameter_2', 'Parameter_3']].agg('_'.join, axis=1)\r\n",
        "number_of_offers = pd.pivot_table(outcome_events, index = 'Segment', columns = 'Parameter_mix', values = 'Bought', aggfunc='count').fillna(0)\r\n",
        "number_of_accepts = pd.pivot_table(outcome_events, index = 'Segment', columns = 'Parameter_mix', values = 'Bought', aggfunc=np.sum).fillna(0)\r\n",
        "benefits = pd.pivot_table(outcome_events[outcome_events['Bought'] == 1], index = 'Segment', columns = 'Parameter_mix', values = 'Basket_value', aggfunc=np.sum)/pd.pivot_table(outcome_events[outcome_events['Bought'] == 1], index = 'Segment', columns = 'Parameter_mix', values = 'Bought', aggfunc=np.sum)\r\n",
        "benefits = benefits.fillna(0)\r\n",
        "\r\n",
        "distributions = np.zeros([len(segments),T,outcome_events.Parameter_mix.nunique()])\r\n"
      ],
      "outputs": [],
      "execution_count": 66,
      "metadata": {
        "collapsed": true,
        "jupyter": {
          "source_hidden": false,
          "outputs_hidden": false
        },
        "nteract": {
          "transient": {
            "deleting": false
          }
        },
        "gather": {
          "logged": 1625805794963
        }
      }
    },
    {
      "cell_type": "code",
      "source": [
        "outcome_events.Parameter_mix.nunique()"
      ],
      "outputs": [
        {
          "output_type": "execute_result",
          "execution_count": 45,
          "data": {
            "text/plain": "22"
          },
          "metadata": {}
        }
      ],
      "execution_count": 45,
      "metadata": {
        "collapsed": true,
        "jupyter": {
          "source_hidden": false,
          "outputs_hidden": false
        },
        "nteract": {
          "transient": {
            "deleting": false
          }
        },
        "gather": {
          "logged": 1625805380593
        }
      }
    },
    {
      "cell_type": "code",
      "source": [
        "count = 0\r\n",
        "\r\n",
        "for segment in segments:\r\n",
        "\r\n",
        "    # GET NUMBER OF OFFERS AND ACCEPTS FROM OUTCOMES\r\n",
        "\r\n",
        "    offers_summary = np.array(number_of_offers.loc[segment])\r\n",
        "    accepts_summary = np.array(number_of_accepts.loc[segment])\r\n",
        "    segment_benefits = np.array(benefits.loc[segment])\r\n",
        "    \r\n",
        "    distributions[count,0] = offers_summary/sum(offers_summary)\r\n",
        "\r\n",
        "    ## WE ESTIMATE HOW CONFIDENT WE ARE IN EACH OUTCOME BEING SIGNIFICANT\r\n",
        "    confidence = get_confidence(offers_summary)\r\n",
        "\r\n",
        "    ## WE GET BENEFIT WAITED CLICK RATES OF EACH OFFER\r\n",
        "    benefit_outcome_rates = get_benefit_outcome_rates(offers_summary, accepts_summary,segment_benefits)\r\n",
        "    \r\n",
        "    ## WE UPDATE THE PREVIOUS DISTRIBUTION BASED ON THE EVENTS WE HAVE SEEN\r\n",
        "    distributions[count,1] = update_distribution(benefit_outcome_rates, distributions[count,0], confidence)\r\n",
        "\r\n",
        "\r\n",
        "    count = count+1\r\n"
      ],
      "outputs": [],
      "execution_count": 101,
      "metadata": {
        "collapsed": true,
        "jupyter": {
          "source_hidden": false,
          "outputs_hidden": false
        },
        "nteract": {
          "transient": {
            "deleting": false
          }
        },
        "gather": {
          "logged": 1625806655484
        }
      }
    },
    {
      "cell_type": "code",
      "source": [
        "plt.plot(distributions[1,0])\r\n",
        "plt.plot(distributions[1,1],'r')\r\n",
        "plt.show()"
      ],
      "outputs": [
        {
          "output_type": "display_data",
          "data": {
            "text/plain": "<Figure size 432x288 with 1 Axes>",
            "image/png": "[encoded data removed]"
          },
          "metadata": {
            "needs_background": "light"
          }
        }
      ],
      "execution_count": 102,
      "metadata": {
        "collapsed": true,
        "jupyter": {
          "source_hidden": false,
          "outputs_hidden": false
        },
        "nteract": {
          "transient": {
            "deleting": false
          }
        },
        "gather": {
          "logged": 1625806657378
        }
      }
    },
    {
      "cell_type": "code",
      "source": [
        "confidence(offers_summary)"
      ],
      "outputs": [
        {
          "output_type": "stream",
          "name": "stdout",
          "text": [
            "0\n",
            "53\n",
            "1\n",
            "77\n",
            "2\n",
            "58\n",
            "3\n",
            "65\n",
            "4\n",
            "63\n",
            "5\n",
            "89\n",
            "6\n",
            "60\n",
            "7\n",
            "96\n",
            "8\n",
            "56\n",
            "9\n",
            "61\n",
            "10\n",
            "568\n",
            "11\n",
            "530\n",
            "12\n",
            "573\n",
            "13\n",
            "478\n",
            "14\n",
            "551\n",
            "15\n",
            "67\n",
            "16\n",
            "59\n",
            "17\n",
            "75\n",
            "18\n",
            "56\n",
            "19\n",
            "65\n",
            "20\n",
            "72\n",
            "21\n",
            "70\n",
            "22\n",
            "56\n",
            "23\n",
            "68\n",
            "24\n",
            "59\n",
            "25\n",
            "497\n",
            "26\n",
            "528\n",
            "27\n",
            "559\n",
            "28\n",
            "556\n",
            "29\n",
            "503\n",
            "30\n",
            "62\n",
            "31\n",
            "77\n",
            "32\n",
            "73\n",
            "33\n",
            "81\n",
            "34\n",
            "56\n",
            "35\n",
            "71\n",
            "36\n",
            "59\n",
            "37\n",
            "64\n",
            "38\n",
            "66\n",
            "39\n",
            "69\n",
            "40\n",
            "566\n",
            "41\n",
            "522\n",
            "42\n",
            "566\n",
            "43\n",
            "544\n",
            "44\n",
            "550\n",
            "45\n",
            "75\n",
            "46\n",
            "86\n",
            "47\n",
            "52\n",
            "48\n",
            "69\n",
            "49\n",
            "77\n",
            "50\n",
            "82\n",
            "51\n",
            "52\n",
            "52\n",
            "70\n",
            "53\n",
            "74\n",
            "54\n",
            "71\n",
            "55\n",
            "561\n",
            "56\n",
            "583\n",
            "57\n",
            "508\n",
            "58\n",
            "573\n",
            "59\n",
            "507\n",
            "60\n",
            "54\n",
            "61\n",
            "79\n",
            "62\n",
            "64\n",
            "63\n",
            "68\n",
            "64\n",
            "79\n",
            "65\n",
            "71\n",
            "66\n",
            "80\n",
            "67\n",
            "71\n",
            "68\n",
            "75\n",
            "69\n",
            "71\n",
            "70\n",
            "541\n",
            "71\n",
            "517\n",
            "72\n",
            "521\n",
            "73\n",
            "560\n",
            "74\n",
            "497\n"
          ]
        },
        {
          "output_type": "execute_result",
          "execution_count": 96,
          "data": {
            "text/plain": "array([0.99999917, 1.        , 0.99999993, 1.        , 0.99999999,\n       1.        , 0.99999997, 1.        , 0.99999981, 0.99999998,\n       1.        , 1.        , 1.        , 1.        , 1.        ,\n       1.        , 0.99999996, 1.        , 0.99999981, 1.        ,\n       1.        , 1.        , 0.99999981, 1.        , 0.99999996,\n       1.        , 1.        , 1.        , 1.        , 1.        ,\n       0.99999999, 1.        , 1.        , 1.        , 0.99999981,\n       1.        , 0.99999996, 1.        , 1.        , 1.        ,\n       1.        , 1.        , 1.        , 1.        , 1.        ,\n       1.        , 1.        , 0.99999863, 1.        , 1.        ,\n       1.        , 0.99999863, 1.        , 1.        , 1.        ,\n       1.        , 1.        , 1.        , 1.        , 1.        ,\n       0.9999995 , 1.        , 1.        , 1.        , 1.        ,\n       1.        , 1.        , 1.        , 1.        , 1.        ,\n       1.        , 1.        , 1.        , 1.        , 1.        ])"
          },
          "metadata": {}
        }
      ],
      "execution_count": 96,
      "metadata": {
        "collapsed": true,
        "jupyter": {
          "source_hidden": false,
          "outputs_hidden": false
        },
        "nteract": {
          "transient": {
            "deleting": false
          }
        },
        "gather": {
          "logged": 1625806498157
        }
      }
    }
  ],
  "metadata": {
    "kernelspec": {
      "name": "python3-azureml",
      "language": "python",
      "display_name": "Python 3.6 - AzureML"
    },
    "language_info": {
      "name": "python",
      "version": "3.6.9",
      "mimetype": "text/x-python",
      "codemirror_mode": {
        "name": "ipython",
        "version": 3
      },
      "pygments_lexer": "ipython3",
      "nbconvert_exporter": "python",
      "file_extension": ".py"
    },
    "kernel_info": {
      "name": "python3-azureml"
    },
    "nteract": {
      "version": "nteract-front-end@1.0.0"
    },
    "microsoft": {
      "host": {
        "AzureML": {
          "notebookHasBeenCompleted": true
        }
      }
    }
  },
  "nbformat": 4,
  "nbformat_minor": 2
}