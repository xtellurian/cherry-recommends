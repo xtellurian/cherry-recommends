{
  "cells": [
    {
      "cell_type": "code",
      "source": [
        "from azureml.core import Workspace, Dataset\r\n",
        "import urllib.request\r\n",
        "from azureml.core import Environment\r\n",
        "from azureml.core.model import InferenceConfig\r\n",
        "from azureml.core.model import Model\r\n",
        "from azureml.core.webservice import LocalWebservice\r\n",
        "\r\n",
        "subscription_id = '04b1ca0e-558c-48d0-ba28-fee796a82076'\r\n",
        "resource_group = 'analytics2040c59b'\r\n",
        "workspace_name = 'VitableML'\r\n",
        "\r\n",
        "workspace = Workspace(subscription_id, resource_group, workspace_name)"
      ],
      "outputs": [],
      "execution_count": 1,
      "metadata": {
        "gather": {
          "logged": 1625099611066
        }
      }
    },
    {
      "cell_type": "code",
      "source": [
        "## REGISTER AND CONFIGURE MODEL\r\n",
        "\r\n",
        "model = Model.register(workspace, model_name=\"quizparameterrecommender\", model_path=\"./source_files/recommender_algorithm.py\")\r\n",
        "\r\n",
        "env = Environment.from_pip_requirements(name=\"quizparameterrecommender\", file_path = \"./requirements.txt\")\r\n",
        "dummy_inference_config = InferenceConfig(\r\n",
        "    environment=env,\r\n",
        "    source_directory=\"./source_files\",\r\n",
        "    entry_script=\"./recommender_algorithm.py\",\r\n",
        ")\r\n",
        "\r\n",
        "deployment_config = LocalWebservice.deploy_configuration(port=6799)\r\n"
      ],
      "outputs": [
        {
          "output_type": "stream",
          "name": "stdout",
          "text": [
            "Registering model quizparameterrecommender\n"
          ]
        }
      ],
      "execution_count": 103,
      "metadata": {
        "collapsed": true,
        "jupyter": {
          "source_hidden": false,
          "outputs_hidden": false
        },
        "nteract": {
          "transient": {
            "deleting": false
          }
        },
        "gather": {
          "logged": 1625111089147
        }
      }
    },
    {
      "cell_type": "code",
      "source": [
        "## DEPLOY\r\n",
        "\r\n",
        "service = Model.deploy(\r\n",
        "    workspace,\r\n",
        "    \"myservice\",\r\n",
        "    [model],\r\n",
        "    dummy_inference_config,\r\n",
        "    deployment_config,\r\n",
        "    overwrite=True,\r\n",
        ")\r\n",
        "service.wait_for_deployment(show_output=True)"
      ],
      "outputs": [
        {
          "output_type": "stream",
          "name": "stdout",
          "text": [
            "Downloading model quizparameterrecommender:4 to /tmp/azureml_y_44k0ay/quizparameterrecommender/4\n",
            "Generating Docker build context.\n",
            "Package creation Succeeded\n",
            "Logging into Docker registry mlresgistry0b7b758c.azurecr.io\n",
            "Logging into Docker registry mlresgistry0b7b758c.azurecr.io\n",
            "Building Docker image from Dockerfile...\n",
            "Step 1/5 : FROM mlresgistry0b7b758c.azurecr.io/azureml/azureml_3953a899d851c6104cb2ca06b98ab928\n",
            " ---> af1662684319\n",
            "Step 2/5 : COPY azureml-app /var/azureml-app\n",
            " ---> 5415c223cbdd\n",
            "Step 3/5 : RUN mkdir -p '/var/azureml-app' && echo eyJhY2NvdW50Q29udGV4dCI6eyJzdWJzY3JpcHRpb25JZCI6IjA0YjFjYTBlLTU1OGMtNDhkMC1iYTI4LWZlZTc5NmE4MjA3NiIsInJlc291cmNlR3JvdXBOYW1lIjoiYW5hbHl0aWNzMjA0MGM1OWIiLCJhY2NvdW50TmFtZSI6InZpdGFibGVtbCIsIndvcmtzcGFjZUlkIjoiM2YzYzdkNzQtZmIzNy00NGU1LWFmNmUtNjRkY2UxMDhmNDIwIn0sIm1vZGVscyI6e30sIm1vZGVsc0luZm8iOnt9fQ== | base64 --decode > /var/azureml-app/model_config_map.json\n",
            " ---> Running in 225e374bd6f0\n",
            " ---> 8807902542b3\n",
            "Step 4/5 : RUN mv '/var/azureml-app/tmp_0lzm7dz.py' /var/azureml-app/main.py\n",
            " ---> Running in 7f59a79f7a80\n",
            " ---> cbf3ef50a58d\n",
            "Step 5/5 : CMD [\"runsvdir\",\"/var/runit\"]\n",
            " ---> Running in fa9911c39912\n",
            " ---> 40f120295d5a\n",
            "Successfully built 40f120295d5a\n",
            "Successfully tagged myservice:latest\n",
            "Container has been successfully cleaned up.\n",
            "Image sha256:f6eeb6e06fc8806ade7fe3446baef102702d3c1997f035ba764dfde81257346d successfully removed.\n",
            "Starting Docker container...\n",
            "Docker container running.\n",
            "Checking container health...\n",
            "Local webservice is running at http://localhost:6799\n"
          ]
        }
      ],
      "execution_count": 104,
      "metadata": {
        "collapsed": true,
        "jupyter": {
          "source_hidden": false,
          "outputs_hidden": false
        },
        "nteract": {
          "transient": {
            "deleting": false
          }
        },
        "gather": {
          "logged": 1625111124708
        }
      }
    },
    {
      "cell_type": "code",
      "source": [
        "## TRY IT OUT\r\n",
        "\r\n",
        "import requests\r\n",
        "import json\r\n",
        "\r\n",
        "uri = service.scoring_uri\r\n",
        "requests.get(\"http://localhost:6799\")\r\n",
        "headers = {\"Content-Type\": \"application/json\"}\r\n",
        "quiz_payload = {\r\n",
        "  \"version\": \"prod_1\",\r\n",
        "  \"payload\": {\r\n",
        "    \"arguments\": {\r\n",
        "      \"q_age\": 65,\r\n",
        "      \"q_alcoholic_drink_a_night\": \"daily\",\r\n",
        "      \"q_allergy\": \"none\",\r\n",
        "      \"q_antibiotics\": \"no\",\r\n",
        "      \"q_bones\": \"no\",\r\n",
        "      \"q_brain_fog\": \"never\",\r\n",
        "      \"q_condition\": \"no\",\r\n",
        "      \"q_constipated\": \"no\",\r\n",
        "      \"q_currently_take\": \"no\",\r\n",
        "      \"q_dairy\":\t\"1_2_per_week\",\r\n",
        "      \"q_describe_diets\": \"any\",\r\n",
        "      \"q_diarrhea\": \"no\",\t\r\n",
        "      \"q_digestive_health\": \"bloating\",\r\n",
        "      \"q_eat_protein\": \"\",\r\n",
        "      \"q_energy_level\": 1,\r\n",
        "      \"q_energy_slumps_experience\": \"daily\",\r\n",
        "      \"q_exercise_before_bed\": \"\",\t\r\n",
        "      \"q_exercise_days\": \"1_day\",\r\n",
        "      \"q_exercise_intensity_rating\": 1,\r\n",
        "      \"q_exercise_type\": \"walking\",\r\n",
        "      \"q_feel_stressed\": \"daily\",\r\n",
        "      \"q_feel_unwell\": \"more_than_4\",\r\n",
        "      \"q_feeling_sluggish\": \"daily\",\r\n",
        "      \"q_fish\": \"rarely\",\r\n",
        "      \"q_fitness_focus\": \"\",\r\n",
        "      \"q_focusing\": \"never\",\r\n",
        "      \"q_fruit_vegetables\": \"1_2_serves\",\r\n",
        "      \"q_gallstone\": \"no\",\r\n",
        "      \"q_gender\": \"female\",\r\n",
        "      \"q_hair\": \"none\",\r\n",
        "      \"q_heart_concern\": \"none\",\r\n",
        "      \"q_history_of_heart_problems\": \"yes\",\r\n",
        "      \"q_improve_area\": \"energy,digestion,sleep,stress,immunity,hair,skin,joints,brain,bones,heart\",\r\n",
        "      \"q_iron\": \"no\",\r\n",
        "      \"q_joints\": \"joint_pain\",\r\n",
        "      \"q_meat\": \"3_per_week\",\r\n",
        "      \"q_medications_taking\": \"other\",\r\n",
        "      \"q_memory\": \"yes\",\r\n",
        "      \"q_muscle_cramps\": \"\",\r\n",
        "      \"q_natal\": \"no\",\r\n",
        "      \"q_often_get_cold\": \"no\",\r\n",
        "      \"restriction\": \"none\",\r\n",
        "      \"q_skin\": \"ageing,dryness,elasticity,acne\",\r\n",
        "      \"q_sleep_screen\": \"\",\r\n",
        "      \"q_smoke\": \"no\",\r\n",
        "      \"q_stress_level\": 5,\r\n",
        "      \"q_sugar\": \"yes\",\r\n",
        "      \"q_sunshine\": \"rarely\",\r\n",
        "      \"q_supplement_perception\": \"\",\r\n",
        "      \"q_take_prescription\": \"yes\",\r\n",
        "      \"q_taken_in_the_past\": \"occasional\",\r\n",
        "      \"q_trying_form_baby\": \"no\",\r\n",
        "      \"q_urinary_tract_health\": \"no\",\r\n",
        "      \"immunity_goal\": 1,\r\n",
        "      \"energy_goal\": 1,\r\n",
        "      \"digestion_goal\": 1,\r\n",
        "      \"sleep_goal\": 1,\r\n",
        "      \"skin_goal\": 1,\r\n",
        "      \"brain_goal\": 1,\r\n",
        "      \"heart_goal\": 1,\r\n",
        "      \"hair_goal\": 1,\r\n",
        "      \"joints_goal\": 1,\r\n",
        "      \"bones_goal\": 1,\r\n",
        "      \"stress_goal\": 1,\r\n",
        "      \"number_goals\": 11      \r\n",
        "    },\r\n",
        "    \"parameterBounds\": {}\r\n",
        "  }\r\n",
        "}    \r\n",
        "\r\n",
        "quiz_payload = json.dumps(quiz_payload)\r\n",
        "response = requests.post(uri, data=quiz_payload, headers=headers)\r\n",
        "print(response)\r\n",
        "print(response.json())"
      ],
      "outputs": [
        {
          "output_type": "stream",
          "name": "stdout",
          "text": [
            "<Response [200]>\n",
            "{'recommendedParameters': {'pills_cap': 10, 'bulk_cap': 2, 'basket_value_cap': 100}}\n"
          ]
        }
      ],
      "execution_count": 107,
      "metadata": {
        "collapsed": true,
        "jupyter": {
          "source_hidden": false,
          "outputs_hidden": false
        },
        "nteract": {
          "transient": {
            "deleting": false
          }
        },
        "gather": {
          "logged": 1625111252372
        }
      }
    },
    {
      "cell_type": "code",
      "source": [
        "service.get_logs()"
      ],
      "outputs": [
        {
          "output_type": "execute_result",
          "execution_count": 92,
          "data": {
            "text/plain": "'2021-07-01T02:19:16,174420099+00:00 - gunicorn/run \\nFile not found: /var/azureml-app/.\\nStarting HTTP server\\n2021-07-01T02:19:16,177232244+00:00 - rsyslog/run \\n2021-07-01T02:19:16,177720752+00:00 - nginx/run \\n2021-07-01T02:19:16,181195007+00:00 - iot-server/run \\nEdgeHubConnectionString and IOTEDGE_IOTHUBHOSTNAME are not set. Exiting...\\n2021-07-01T02:19:16,248525683+00:00 - iot-server/finish 1 0\\n2021-07-01T02:19:16,249625101+00:00 - Exit code 1 is normal. Not restarting iot-server.\\nStarting gunicorn 20.1.0\\nListening at: http://127.0.0.1:31311 (11)\\nUsing worker: sync\\nworker timeout is set to 300\\nBooting worker with pid: 41\\nSPARK_HOME not set. Skipping PySpark Initialization.\\nInitializing logger\\n2021-07-01 02:19:16,787 | root | INFO | Starting up app insights client\\nlogging socket was found. logging is available.\\nlogging socket was found. logging is available.\\n2021-07-01 02:19:16,787 | root | INFO | Starting up request id generator\\n2021-07-01 02:19:16,788 | root | INFO | Starting up app insight hooks\\n2021-07-01 02:19:16,788 | root | INFO | Invoking user\\'s init function\\nThis is init\\nno request id,This is init\\n\\n2021-07-01 02:19:16,788 | root | INFO | Users\\'s init has completed successfully\\n2021-07-01 02:19:16,789 | root | INFO | Skipping middleware: dbg_model_info as it\\'s not enabled.\\n2021-07-01 02:19:16,789 | root | INFO | Skipping middleware: dbg_resource_usage as it\\'s not enabled.\\n2021-07-01 02:19:16,790 | root | INFO | Scoring timeout setting is not found. Use default timeout: 3600000 ms\\n2021-07-01 02:19:17,222 | root | INFO | Validation Request Content-Type\\n2021-07-01 02:19:17,222 | root | INFO | Scoring Timer is set to 3600.0 seconds\\n2021-07-01 02:19:19,000 | root | INFO | 200\\n127.0.0.1 - - [01/Jul/2021:02:19:18 +0000] \"POST /score HTTP/1.0\" 200 56 \"-\" \"python-requests/2.25.1\"\\n'"
          },
          "metadata": {}
        }
      ],
      "execution_count": 92,
      "metadata": {
        "collapsed": true,
        "jupyter": {
          "source_hidden": false,
          "outputs_hidden": false
        },
        "nteract": {
          "transient": {
            "deleting": false
          }
        },
        "gather": {
          "logged": 1625105958298
        }
      }
    },
    {
      "cell_type": "code",
      "source": [
        "## DEPLOY TO CLOUD\r\n",
        "model_version = '1p1'\r\n",
        "\r\n",
        "tags = {\r\n",
        "    'source': 'vitable',\r\n",
        "    'production': False,\r\n",
        "    'version': model_version\r\n",
        "}\r\n",
        "\r\n",
        "from azureml.core.webservice import AciWebservice\r\n",
        "\r\n",
        "aci_deployment_config = AciWebservice.deploy_configuration(cpu_cores = 0.5, \r\n",
        "    memory_gb = 1, \r\n",
        "    tags=tags, \r\n",
        "    auth_enabled=True)\r\n",
        "\r\n",
        "service = Model.deploy(workspace, \r\n",
        "    \"quizparameterrecommender\", \r\n",
        "    [model], \r\n",
        "    dummy_inference_config, \r\n",
        "    aci_deployment_config)\r\n",
        "\r\n",
        "service.wait_for_deployment(show_output=True)\r\n",
        "print(service.get_logs())"
      ],
      "outputs": [
        {
          "output_type": "stream",
          "name": "stdout",
          "text": [
            "Tips: You can try get_logs(): https://aka.ms/debugimage#dockerlog or local deployment: https://aka.ms/debugimage#debug-locally to debug if deployment takes longer than 10 minutes.\n",
            "Running\n",
            "2021-07-01 03:48:09+00:00 Creating Container Registry if not exists.\n",
            "2021-07-01 03:48:09+00:00 Registering the environment.\n",
            "2021-07-01 03:48:09+00:00 Use the existing image.\n",
            "2021-07-01 03:48:09+00:00 Generating deployment configuration.\n",
            "2021-07-01 03:48:10+00:00 Submitting deployment to compute..\n",
            "2021-07-01 03:48:17+00:00 Checking the status of deployment quizparameterrecommender..\n",
            "2021-07-01 03:49:50+00:00 Checking the status of inference endpoint quizparameterrecommender.\n",
            "Succeeded\n",
            "ACI service creation operation finished, operation \"Succeeded\"\n",
            "2021-07-01T03:49:39,495231700+00:00 - gunicorn/run \n",
            "File not found: /var/azureml-app/.\n",
            "Starting HTTP server\n",
            "2021-07-01T03:49:39,511169900+00:00 - nginx/run \n",
            "2021-07-01T03:49:39,521148000+00:00 - iot-server/run \n",
            "2021-07-01T03:49:39,558972900+00:00 - rsyslog/run \n",
            "EdgeHubConnectionString and IOTEDGE_IOTHUBHOSTNAME are not set. Exiting...\n",
            "2021-07-01T03:49:40,001186000+00:00 - iot-server/finish 1 0\n",
            "2021-07-01T03:49:40,002758400+00:00 - Exit code 1 is normal. Not restarting iot-server.\n",
            "Starting gunicorn 20.1.0\n",
            "Listening at: http://127.0.0.1:31311 (61)\n",
            "Using worker: sync\n",
            "worker timeout is set to 300\n",
            "Booting worker with pid: 87\n",
            "SPARK_HOME not set. Skipping PySpark Initialization.\n",
            "Initializing logger\n",
            "2021-07-01 03:49:41,527 | root | INFO | Starting up app insights client\n",
            "logging socket was found. logging is available.\n",
            "logging socket was found. logging is available.\n",
            "2021-07-01 03:49:41,527 | root | INFO | Starting up request id generator\n",
            "2021-07-01 03:49:41,557 | root | INFO | Starting up app insight hooks\n",
            "2021-07-01 03:49:41,558 | root | INFO | Invoking user's init function\n",
            "This is init\n",
            "no request id,This is init\n",
            "\n",
            "2021-07-01 03:49:41,559 | root | INFO | Users's init has completed successfully\n",
            "2021-07-01 03:49:41,561 | root | INFO | Skipping middleware: dbg_model_info as it's not enabled.\n",
            "2021-07-01 03:49:41,562 | root | INFO | Skipping middleware: dbg_resource_usage as it's not enabled.\n",
            "2021-07-01 03:49:41,563 | root | INFO | Scoring timeout is found from os.environ: 60000 ms\n",
            "2021-07-01 03:49:50,773 | root | INFO | Swagger file not present\n",
            "2021-07-01 03:49:50,774 | root | INFO | 404\n",
            "127.0.0.1 - - [01/Jul/2021:03:49:50 +0000] \"GET /swagger.json HTTP/1.0\" 404 19 \"-\" \"Go-http-client/1.1\"\n",
            "2021-07-01 03:49:54,332 | root | INFO | Swagger file not present\n",
            "2021-07-01 03:49:54,332 | root | INFO | 404\n",
            "127.0.0.1 - - [01/Jul/2021:03:49:54 +0000] \"GET /swagger.json HTTP/1.0\" 404 19 \"-\" \"Go-http-client/1.1\"\n",
            "\n"
          ]
        }
      ],
      "execution_count": 109,
      "metadata": {
        "collapsed": true,
        "jupyter": {
          "source_hidden": false,
          "outputs_hidden": false
        },
        "nteract": {
          "transient": {
            "deleting": false
          }
        },
        "gather": {
          "logged": 1625111393823
        }
      }
    }
  ],
  "metadata": {
    "kernelspec": {
      "name": "python3-azureml",
      "language": "python",
      "display_name": "Python 3.6 - AzureML"
    },
    "language_info": {
      "name": "python",
      "version": "3.6.9",
      "mimetype": "text/x-python",
      "codemirror_mode": {
        "name": "ipython",
        "version": 3
      },
      "pygments_lexer": "ipython3",
      "nbconvert_exporter": "python",
      "file_extension": ".py"
    },
    "kernel_info": {
      "name": "python3-azureml"
    },
    "nteract": {
      "version": "nteract-front-end@1.0.0"
    },
    "microsoft": {
      "host": {
        "AzureML": {
          "notebookHasBeenCompleted": true
        }
      }
    }
  },
  "nbformat": 4,
  "nbformat_minor": 2
}