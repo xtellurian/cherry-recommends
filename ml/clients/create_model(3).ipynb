{
  "cells": [
    {
      "cell_type": "code",
      "source": [
        "from azureml.core import Workspace, Dataset\r\n",
        "import urllib.request\r\n",
        "from azureml.core import Environment\r\n",
        "from azureml.core.model import InferenceConfig\r\n",
        "from azureml.core.model import Model\r\n",
        "from azureml.core.webservice import LocalWebservice\r\n",
        "\r\n",
        "subscription_id = '04b1ca0e-558c-48d0-ba28-fee796a82076'\r\n",
        "resource_group = 'analytics1e5d2caf'\r\n",
        "workspace_name = 'UpstreetDevML'\r\n",
        "\r\n",
        "workspace = Workspace(subscription_id, resource_group, workspace_name)"
      ],
      "outputs": [],
      "execution_count": 9,
      "metadata": {
        "gather": {
          "logged": 1625616192559
        }
      }
    },
    {
      "cell_type": "code",
      "source": [
        "## REGISTER AND CONFIGURE MODEL\r\n",
        "\r\n",
        "model = Model.register(workspace, model_name=\"test2\", model_path=\"./upstreet.py\")\r\n",
        "\r\n",
        "env = Environment.from_pip_requirements(name=\"project_environment\", file_path = \"./requirements.txt\")\r\n",
        "dummy_inference_config = InferenceConfig(\r\n",
        "    environment=env,\r\n",
        "    source_directory=\"./\",\r\n",
        "    entry_script=\"./upstreet.py\",\r\n",
        ")\r\n",
        "\r\n",
        "deployment_config = LocalWebservice.deploy_configuration(port=6799)\r\n"
      ],
      "outputs": [
        {
          "output_type": "stream",
          "name": "stdout",
          "text": [
            "Registering model test2\n"
          ]
        }
      ],
      "execution_count": 23,
      "metadata": {
        "collapsed": true,
        "jupyter": {
          "source_hidden": false,
          "outputs_hidden": false
        },
        "nteract": {
          "transient": {
            "deleting": false
          }
        },
        "gather": {
          "logged": 1625634117658
        }
      }
    },
    {
      "cell_type": "code",
      "source": [
        "## DEPLOY\r\n",
        "\r\n",
        "service = Model.deploy(\r\n",
        "    workspace,\r\n",
        "    \"myservice\",\r\n",
        "    [model],\r\n",
        "    dummy_inference_config,\r\n",
        "    deployment_config,\r\n",
        "    overwrite=True,\r\n",
        ")\r\n",
        "service.wait_for_deployment(show_output=True)"
      ],
      "outputs": [
        {
          "output_type": "stream",
          "name": "stdout",
          "text": [
            "Downloading model test2:3 to /tmp/azureml_nnlbb0k0/test2/3\n",
            "Generating Docker build context.\n",
            "Package creation Succeeded\n",
            "Logging into Docker registry mlresgistrye5586bbf.azurecr.io\n",
            "Logging into Docker registry mlresgistrye5586bbf.azurecr.io\n",
            "Building Docker image from Dockerfile...\n",
            "Step 1/5 : FROM mlresgistrye5586bbf.azurecr.io/azureml/azureml_3953a899d851c6104cb2ca06b98ab928\n",
            " ---> 625b4198cdda\n",
            "Step 2/5 : COPY azureml-app /var/azureml-app\n",
            " ---> 58a7f3ea67bc\n",
            "Step 3/5 : RUN mkdir -p '/var/azureml-app' && echo eyJhY2NvdW50Q29udGV4dCI6eyJzdWJzY3JpcHRpb25JZCI6IjA0YjFjYTBlLTU1OGMtNDhkMC1iYTI4LWZlZTc5NmE4MjA3NiIsInJlc291cmNlR3JvdXBOYW1lIjoiYW5hbHl0aWNzMWU1ZDJjYWYiLCJhY2NvdW50TmFtZSI6InVwc3RyZWV0ZGV2bWwiLCJ3b3Jrc3BhY2VJZCI6ImFmM2ZiMTdjLTE3MmMtNDUxYi04YWUyLTQxM2MzOTFlYmYyMSJ9LCJtb2RlbHMiOnt9LCJtb2RlbHNJbmZvIjp7fX0= | base64 --decode > /var/azureml-app/model_config_map.json\n",
            " ---> Running in e64f50fff0f9\n",
            " ---> 04ca2973087f\n",
            "Step 4/5 : RUN mv '/var/azureml-app/tmpn2xf_f86.py' /var/azureml-app/main.py\n",
            " ---> Running in 8e446ea02c9a\n",
            " ---> 8d65d49385c6\n",
            "Step 5/5 : CMD [\"runsvdir\",\"/var/runit\"]\n",
            " ---> Running in 25d94e4e04e7\n",
            " ---> 738f7ca8f302\n",
            "Successfully built 738f7ca8f302\n",
            "Successfully tagged myservice:latest\n",
            "Container has been successfully cleaned up.\n",
            "Image sha256:f8615806c6bee2dadfdea084199894bf070c6b9efa46614aec3606e83e79c8d4 successfully removed.\n",
            "Starting Docker container...\n",
            "Docker container running.\n",
            "Checking container health...\n",
            "Local webservice is running at http://localhost:6799\n"
          ]
        }
      ],
      "execution_count": 24,
      "metadata": {
        "collapsed": true,
        "jupyter": {
          "source_hidden": false,
          "outputs_hidden": false
        },
        "nteract": {
          "transient": {
            "deleting": false
          }
        },
        "gather": {
          "logged": 1625634156815
        }
      }
    },
    {
      "cell_type": "code",
      "source": [
        "## TRY IT OUT\r\n",
        "\r\n",
        "import requests\r\n",
        "import json\r\n",
        "\r\n",
        "uri = service.scoring_uri\r\n",
        "requests.get(\"http://localhost:6799\")\r\n",
        "headers = {\"Content-Type\": \"application/json\"}\r\n",
        "user_properties = {\r\n",
        "  \"version\": \"hero-banner-0-3\",\r\n",
        "  \"payload\": {\r\n",
        "    \"arguments\": {\r\n",
        "        \"mostPurchases\": \"BWS\",\r\n",
        "        \"lastPurchased\": \"AVIS\",\r\n",
        "        \"groupMostPurchases\": \"GoodGuys\"\r\n",
        "    },\r\n",
        "  \"parameterBounds\": {}\r\n",
        "  }\r\n",
        "} \r\n",
        "user_properties = json.dumps(user_properties)\r\n",
        "response = requests.post(uri, data=user_properties, headers=headers)\r\n",
        "print(response)\r\n",
        "print(response.json())"
      ],
      "outputs": [
        {
          "output_type": "stream",
          "name": "stdout",
          "text": [
            "<Response [200]>\n",
            "{'productCommonId': 'AVIS'}\n"
          ]
        }
      ],
      "execution_count": 27,
      "metadata": {
        "collapsed": true,
        "jupyter": {
          "source_hidden": false,
          "outputs_hidden": false
        },
        "nteract": {
          "transient": {
            "deleting": false
          }
        },
        "gather": {
          "logged": 1625634210859
        }
      }
    },
    {
      "cell_type": "code",
      "source": [
        "service.get_logs()"
      ],
      "outputs": [
        {
          "output_type": "execute_result",
          "execution_count": 22,
          "data": {
            "text/plain": "'2021-07-05T03:41:04,312352139+00:00 - rsyslog/run \\n2021-07-05T03:41:04,313351485+00:00 - gunicorn/run \\n2021-07-05T03:41:04,315735596+00:00 - iot-server/run \\n/usr/sbin/nginx: /azureml-envs/azureml_3c4dd51edc4c5fe2b2bee716e0c6324b/lib/libcrypto.so.1.0.0: no version information available (required by /usr/sbin/nginx)\\n/usr/sbin/nginx: /azureml-envs/azureml_3c4dd51edc4c5fe2b2bee716e0c6324b/lib/libcrypto.so.1.0.0: no version information available (required by /usr/sbin/nginx)\\n/usr/sbin/nginx: /azureml-envs/azureml_3c4dd51edc4c5fe2b2bee716e0c6324b/lib/libssl.so.1.0.0: no version information available (required by /usr/sbin/nginx)\\n/usr/sbin/nginx: /azureml-envs/azureml_3c4dd51edc4c5fe2b2bee716e0c6324b/lib/libssl.so.1.0.0: no version information available (required by /usr/sbin/nginx)\\n/usr/sbin/nginx: /azureml-envs/azureml_3c4dd51edc4c5fe2b2bee716e0c6324b/lib/libssl.so.1.0.0: no version information available (required by /usr/sbin/nginx)\\n2021-07-05T03:41:04,318044904+00:00 - nginx/run \\nEdgeHubConnectionString and IOTEDGE_IOTHUBHOSTNAME are not set. Exiting...\\n2021-07-05T03:41:04,380883428+00:00 - iot-server/finish 1 0\\n2021-07-05T03:41:04,381832172+00:00 - Exit code 1 is normal. Not restarting iot-server.\\nStarting gunicorn 20.1.0\\nListening at: http://127.0.0.1:31311 (14)\\nUsing worker: sync\\nworker timeout is set to 300\\nBooting worker with pid: 42\\nSPARK_HOME not set. Skipping PySpark Initialization.\\nInitializing logger\\n2021-07-05 03:41:04,959 | root | INFO | Starting up app insights client\\n2021-07-05 03:41:04,959 | root | INFO | Starting up request id generator\\n2021-07-05 03:41:04,959 | root | INFO | Starting up app insight hooks\\n2021-07-05 03:41:04,959 | root | INFO | Invoking user\\'s init function\\nThis is init\\n2021-07-05 03:41:04,959 | root | INFO | Users\\'s init has completed successfully\\n2021-07-05 03:41:04,960 | root | INFO | Skipping middleware: dbg_model_info as it\\'s not enabled.\\n2021-07-05 03:41:04,960 | root | INFO | Skipping middleware: dbg_resource_usage as it\\'s not enabled.\\n2021-07-05 03:41:04,961 | root | INFO | Scoring timeout setting is not found. Use default timeout: 3600000 ms\\n2021-07-05 03:41:05,364 | root | INFO | Validation Request Content-Type\\n2021-07-05 03:41:05,364 | root | INFO | Scoring Timer is set to 3600.0 seconds\\n{\\'lastPurchased\\': \\'BWS\\', \\'mostCommon\\': \\'AVIS\\', \\'mostPopular\\': \\'GoodGuys\\'}\\n2021-07-05 03:41:05,365 | root | ERROR | Encountered Exception: Traceback (most recent call last):\\n  File \"/var/azureml-server/synchronous/routes.py\", line 64, in run_scoring\\n    response = invoke_user_with_timer(service_input, request_headers)\\n  File \"/var/azureml-server/synchronous/routes.py\", line 97, in invoke_user_with_timer\\n    result = user_main.run(**params)\\n  File \"/var/azureml-app/source_dir/./upstreet.py\", line 37, in run\\n    return {\"companyName\": companyName}\\nNameError: name \\'companyName\\' is not defined\\n\\nDuring handling of the above exception, another exception occurred:\\n\\nTraceback (most recent call last):\\n  File \"/azureml-envs/azureml_3c4dd51edc4c5fe2b2bee716e0c6324b/lib/python3.6/site-packages/flask/app.py\", line 1832, in full_dispatch_request\\n    rv = self.dispatch_request()\\n  File \"/azureml-envs/azureml_3c4dd51edc4c5fe2b2bee716e0c6324b/lib/python3.6/site-packages/flask/app.py\", line 1818, in dispatch_request\\n    return self.view_functions[rule.endpoint](**req.view_args)\\n  File \"/var/azureml-server/synchronous/routes.py\", line 43, in score_realtime\\n    return run_scoring(service_input, request.headers, request.environ.get(\\'REQUEST_ID\\', \\'00000000-0000-0000-0000-000000000000\\'))\\n  File \"/var/azureml-server/synchronous/routes.py\", line 77, in run_scoring\\n    raise RunFunctionException(str(exc))\\nrun_function_exception.RunFunctionException\\n\\n2021-07-05 03:41:05,365 | root | INFO | 500\\n127.0.0.1 - - [05/Jul/2021:03:41:05 +0000] \"POST /score HTTP/1.0\" 500 33 \"-\" \"python-requests/2.25.1\"\\n2021-07-05 03:41:53,008 | root | INFO | Validation Request Content-Type\\n2021-07-05 03:41:53,008 | root | INFO | Scoring Timer is set to 3600.0 seconds\\n{\\'lastPurchased\\': \\'BWS\\', \\'mostCommon\\': \\'AVIS\\', \\'mostPopular\\': \\'GoodGuys\\'}\\n2021-07-05 03:41:53,009 | root | ERROR | Encountered Exception: Traceback (most recent call last):\\n  File \"/var/azureml-server/synchronous/routes.py\", line 64, in run_scoring\\n    response = invoke_user_with_timer(service_input, request_headers)\\n  File \"/var/azureml-server/synchronous/routes.py\", line 97, in invoke_user_with_timer\\n    result = user_main.run(**params)\\n  File \"/var/azureml-app/source_dir/./upstreet.py\", line 37, in run\\n    return {\"companyName\": companyName}\\nNameError: name \\'companyName\\' is not defined\\n\\nDuring handling of the above exception, another exception occurred:\\n\\nTraceback (most recent call last):\\n  File \"/azureml-envs/azureml_3c4dd51edc4c5fe2b2bee716e0c6324b/lib/python3.6/site-packages/flask/app.py\", line 1832, in full_dispatch_request\\n    rv = self.dispatch_request()\\n  File \"/azureml-envs/azureml_3c4dd51edc4c5fe2b2bee716e0c6324b/lib/python3.6/site-packages/flask/app.py\", line 1818, in dispatch_request\\n    return self.view_functions[rule.endpoint](**req.view_args)\\n  File \"/var/azureml-server/synchronous/routes.py\", line 43, in score_realtime\\n    return run_scoring(service_input, request.headers, request.environ.get(\\'REQUEST_ID\\', \\'00000000-0000-0000-0000-000000000000\\'))\\n  File \"/var/azureml-server/synchronous/routes.py\", line 77, in run_scoring\\n    raise RunFunctionException(str(exc))\\nrun_function_exception.RunFunctionException\\n\\n2021-07-05 03:41:53,009 | root | INFO | 500\\n127.0.0.1 - - [05/Jul/2021:03:41:53 +0000] \"POST /score HTTP/1.0\" 500 33 \"-\" \"python-requests/2.25.1\"\\n'"
          },
          "metadata": {}
        }
      ],
      "execution_count": 22,
      "metadata": {
        "collapsed": true,
        "jupyter": {
          "source_hidden": false,
          "outputs_hidden": false
        },
        "nteract": {
          "transient": {
            "deleting": false
          }
        },
        "gather": {
          "logged": 1625456516434
        }
      }
    },
    {
      "cell_type": "code",
      "source": [
        "## DEPLOY TO CLOUD\r\n",
        "model_version = 'hero-banner-0-3'\r\n",
        "\r\n",
        "tags = {\r\n",
        "    'source': 'tutorial',\r\n",
        "    'production': False,\r\n",
        "    'version': model_version\r\n",
        "}\r\n",
        "\r\n",
        "from azureml.core.webservice import AciWebservice\r\n",
        "aci_deployment_config = AciWebservice.deploy_configuration(cpu_cores = 0.5, \r\n",
        "    memory_gb = 1, \r\n",
        "    tags=tags, \r\n",
        "    auth_enabled=True)\r\n",
        "\r\n",
        "service = Model.deploy(workspace, \r\n",
        "    \"upstreet-hero-banner-0-3\", \r\n",
        "    [model], \r\n",
        "    dummy_inference_config, \r\n",
        "    aci_deployment_config)\r\n",
        "\r\n",
        "service.wait_for_deployment(show_output=True)\r\n",
        "print(service.get_logs())"
      ],
      "outputs": [
        {
          "output_type": "stream",
          "name": "stdout",
          "text": [
            "Tips: You can try get_logs(): https://aka.ms/debugimage#dockerlog or local deployment: https://aka.ms/debugimage#debug-locally to debug if deployment takes longer than 10 minutes.\n",
            "Running\n",
            "2021-07-07 05:03:46+00:00 Creating Container Registry if not exists.\n",
            "2021-07-07 05:03:46+00:00 Registering the environment.\n",
            "2021-07-07 05:03:47+00:00 Use the existing image.\n",
            "2021-07-07 05:03:48+00:00 Generating deployment configuration.\n",
            "2021-07-07 05:03:49+00:00 Submitting deployment to compute..\n",
            "2021-07-07 05:03:54+00:00 Checking the status of deployment upstreet-hero-banner-0-3."
          ]
        }
      ],
      "execution_count": 28,
      "metadata": {
        "collapsed": true,
        "jupyter": {
          "source_hidden": false,
          "outputs_hidden": false
        },
        "nteract": {
          "transient": {
            "deleting": false
          }
        },
        "gather": {
          "logged": 1625618201109
        }
      }
    }
  ],
  "metadata": {
    "kernelspec": {
      "name": "python3-azureml",
      "language": "python",
      "display_name": "Python 3.6 - AzureML"
    },
    "language_info": {
      "name": "python",
      "version": "3.6.9",
      "mimetype": "text/x-python",
      "codemirror_mode": {
        "name": "ipython",
        "version": 3
      },
      "pygments_lexer": "ipython3",
      "nbconvert_exporter": "python",
      "file_extension": ".py"
    },
    "kernel_info": {
      "name": "python3-azureml"
    },
    "nteract": {
      "version": "nteract-front-end@1.0.0"
    },
    "microsoft": {
      "host": {
        "AzureML": {
          "notebookHasBeenCompleted": true
        }
      }
    }
  },
  "nbformat": 4,
  "nbformat_minor": 2
}