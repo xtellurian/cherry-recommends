{
  "cells": [
    {
      "cell_type": "code",
      "source": [
        "# azureml-core of version 1.0.72 or higher is required\r\n",
        "# azureml-dataprep[pandas] of version 1.1.34 or higher is required\r\n",
        "from azureml.core import Workspace, Dataset\r\n",
        "import pandas as pd\r\n",
        "from pandas.io.json import json_normalize\r\n",
        "import numpy as np\r\n",
        "import matplotlib.pyplot as plt\r\n",
        "from datetime import timedelta, datetime, timezone\r\n",
        "\r\n",
        "subscription_id = '04b1ca0e-558c-48d0-ba28-fee796a82076'\r\n",
        "resource_group = 'analytics2040c59b'\r\n",
        "workspace_name = 'VitableML'\r\n",
        "\r\n",
        "## How many days to consider\r\n",
        "t = timedelta(days=13)\r\n",
        "start_time = datetime.now(timezone.utc) - t\r\n",
        "end_time = datetime.now(timezone.utc) - timedelta(days = 3)\r\n",
        "\r\n",
        "DollarVariable = \"amount\"\r\n",
        "parameterFilename = 'models/prod_quiz_parameter_recommender/source_files/vitableParameters.csv'\r\n",
        "parameterList = np.genfromtxt(parameterFilename, delimiter=',', dtype='<U12')\r\n",
        "\r\n",
        "  \r\n"
      ],
      "outputs": [],
      "execution_count": 9,
      "metadata": {
        "gather": {
          "logged": 1629356698987
        }
      }
    },
    {
      "cell_type": "code",
      "source": [
        "def load_orders(subscription_id, resource_group, workspace_name, t):\r\n",
        "    workspace = Workspace(subscription_id, resource_group, workspace_name)\r\n",
        "    dataset = Dataset.get_by_name(workspace, name='tracked_user_events')\r\n",
        "    orders = dataset.with_timestamp_columns('Created').time_recent(t).to_pandas_dataframe()\r\n",
        "\r\n",
        "    print('Got Orders')\r\n",
        "\r\n",
        "    return orders\r\n",
        "\r\n",
        "def load_recommendations(subscription_id, resource_group, workspace_name, start_time, end_time):\r\n",
        "\r\n",
        "    workspace = Workspace(subscription_id, resource_group, workspace_name)\r\n",
        "    dataset = Dataset.get_by_name(workspace, name='parameter_set_recommendations')\r\n",
        "\r\n",
        "    recommendations = dataset.to_pandas_dataframe()\r\n",
        "    recommendations = recommendations[recommendations.RecommenderType == \"ParameterSet\"]\r\n",
        "    recommendations['Created'] = pd.to_datetime(recommendations['Created'])\r\n",
        "    recommendations = recommendations[(recommendations['Created'] >= start_time) & (recommendations['Created'] < end_time)]\r\n",
        "    recommendations.info()\r\n",
        "\r\n",
        "    print('Got recommendations')\r\n",
        "\r\n",
        "    return recommendations\r\n",
        "\r\n",
        "def get_relevant_recommendation_info(recommendations):\r\n",
        "    recommendations_df = recommendations[[\"Created\",\"ModelOutput\",\"RecommendationCorrelatorId\"]]\r\n",
        "    recommendations_df.ModelOutput = recommendations_df.ModelOutput.apply(lambda x:eval(x))\r\n",
        "    jdf = json_normalize(recommendations_df.ModelOutput).set_index(recommendations_df.index)\r\n",
        "    recommendations_df = recommendations_df.join(jdf).drop(['ModelOutput'], axis = 1)\r\n",
        "\r\n",
        "    return recommendations_df\r\n",
        "\r\n",
        "def get_relevant_order_info(orders, DollarVariable):\r\n",
        "    orders.Properties = orders.Properties.apply(lambda x:eval(x))\r\n",
        "    jdf = json_normalize(orders.Properties).set_index(orders.index)\r\n",
        "    orders = orders.join(jdf).drop(['Properties'], axis = 1)\r\n",
        "    orders_df = orders[['RecommendationCorrelatorId',DollarVariable]]\r\n",
        "\r\n",
        "    return orders_df\r\n",
        "\r\n",
        "def get_recommendor_outcomes(recommendations_df, orders_df,DollarVariable):\r\n",
        "    outcomes_df = recommendations_df.set_index('RecommendationCorrelatorId').join(orders_df.set_index('RecommendationCorrelatorId'))\r\n",
        "    outcomes_df = outcomes_df.fillna(0)\r\n",
        "    outcomes_df['Purchased'] = 0\r\n",
        "    outcomes_df['Purchased'][outcomes_df['amount']>0] = 1\r\n",
        "    columns_titles = [\"Created\",\"RecommendedParameters.pills_cap\",\"RecommendedParameters.bulk_cap\",\"RecommendedParameters.basket_value_cap\",\"Purchased\",DollarVariable]\r\n",
        "    outcomes_df=outcomes_df.reindex(columns=columns_titles)\r\n",
        "\r\n",
        "    return outcomes_df\r\n",
        "\r\n",
        "def measure_performance(parameterList,outcomes_df):\r\n",
        "\r\n",
        "    customer_array = np.array(outcomes_df)\r\n",
        "    print(customer_array)\r\n",
        "    N_parameters = len(parameterList)\r\n",
        "    store_array = np.zeros([N_parameters,10])\r\n",
        "\r\n",
        "    for i in range(N_parameters):\r\n",
        "        split_parameter = parameterList[i].split(\"_\")\r\n",
        "        store_array[i,0] = int(split_parameter[0])\r\n",
        "        store_array[i,1] = int(split_parameter[1])\r\n",
        "        store_array[i,2] = int(split_parameter[2])\r\n",
        "        #store_array[i,3] = int(split_parameter[3])\r\n",
        "        #store_array[i,4] = int(split_parameter[4])\r\n",
        "\r\n",
        "    N_customers = len(customer_array)\r\n",
        "\r\n",
        "\r\n",
        "    store_array[:,[5,6,7,8,9]] = 0\r\n",
        "    for n_customer in range(N_customers):\r\n",
        "        for n_parameter in range(N_parameters):\r\n",
        "            if int(customer_array[n_customer,1]) == store_array[n_parameter,0]:\r\n",
        "                if int(customer_array[n_customer,2]) == store_array[n_parameter,1]:\r\n",
        "                    if int(customer_array[n_customer,3]) == store_array[n_parameter,2]:\r\n",
        "                        #if int(customer_array[n_customer,3]) == store_array[n_parameter,3]:\r\n",
        "                        #    if int(customer_array[n_customer,4]) == store_array[n_parameter,4]:\r\n",
        "\r\n",
        "                        store_array[n_parameter,5] = store_array[n_parameter,5] + 1 ## Someone accepted the recommendation\r\n",
        "\r\n",
        "                        if int(customer_array[n_customer,4]) == 1:  ## Someone purchased the recommendation\r\n",
        "                            store_array[n_parameter,6] = store_array[n_parameter,6] + 1\r\n",
        "                            store_array[n_parameter,7] = store_array[n_parameter,7] + int(customer_array[n_customer,5])\r\n",
        "\r\n",
        "    ## Store array 8 is average revenue per invoked recommendation \r\n",
        "    store_array[:,8] = store_array[:,7]/store_array[:,5]\r\n",
        "    store_array = np.nan_to_num(store_array).copy()\r\n",
        "    \r\n",
        "    ## Pull out the total average revenue per invoked recommendation\r\n",
        "    performance = np.sum(store_array[:,7])/np.sum(store_array[:,5]) \r\n",
        "\r\n",
        "    return performance"
      ],
      "outputs": [],
      "execution_count": 31,
      "metadata": {
        "collapsed": true,
        "jupyter": {
          "source_hidden": false,
          "outputs_hidden": false
        },
        "nteract": {
          "transient": {
            "deleting": false
          }
        },
        "gather": {
          "logged": 1629357376729
        }
      }
    },
    {
      "cell_type": "code",
      "source": [
        "#orders = load_orders(subscription_id, resource_group, workspace_name, t)\r\n",
        "#recommendations = load_recommendations(subscription_id, resource_group, workspace_name, start_time, end_time)\r\n",
        "#recommendations_df = get_relevant_recommendation_info(recommendations)\r\n",
        "#orders_df = get_relevant_order_info(orders, DollarVariable)\r\n",
        "#outcomes_df = get_recommendor_outcomes(recommendations_df, orders_df, DollarVariable)\r\n",
        "performance = measure_performance(parameterList,outcomes_df)"
      ],
      "outputs": [
        {
          "output_type": "stream",
          "name": "stderr",
          "text": [
            "/anaconda/envs/azureml_py36/lib/python3.6/site-packages/ipykernel_launcher.py:45: SettingWithCopyWarning: \n",
            "A value is trying to be set on a copy of a slice from a DataFrame\n",
            "\n",
            "See the caveats in the documentation: http://pandas.pydata.org/pandas-docs/stable/user_guide/indexing.html#returning-a-view-versus-a-copy\n",
            "/anaconda/envs/azureml_py36/lib/python3.6/site-packages/ipykernel_launcher.py:85: RuntimeWarning: invalid value encountered in true_divide\n"
          ]
        },
        {
          "output_type": "stream",
          "name": "stdout",
          "text": [
            "[[Timestamp('2021-08-14 04:25:38.726666700+0000', tz='UTC') 10 2 120 0\n",
            "  0.0]\n",
            " [Timestamp('2021-08-14 04:26:10.546666700+0000', tz='UTC') 10 2 70 0 0.0]\n",
            " [Timestamp('2021-08-14 04:29:00.910000+0000', tz='UTC') 4 2 100 0 0.0]\n",
            " ...\n",
            " [Timestamp('2021-08-14 04:20:54.540000+0000', tz='UTC') 4 2 140 0 0.0]\n",
            " [Timestamp('2021-08-14 04:22:31.713333300+0000', tz='UTC') 10 2 100 0\n",
            "  0.0]\n",
            " [Timestamp('2021-08-14 04:24:04.153333300+0000', tz='UTC') 4 2 100 0 0.0]]\n",
            "4678.0\n",
            "4578.0\n"
          ]
        }
      ],
      "execution_count": 32,
      "metadata": {
        "collapsed": true,
        "jupyter": {
          "source_hidden": false,
          "outputs_hidden": false
        },
        "nteract": {
          "transient": {
            "deleting": false
          }
        },
        "gather": {
          "logged": 1629357380744
        }
      }
    }
  ],
  "metadata": {
    "kernelspec": {
      "name": "python3-azureml",
      "language": "python",
      "display_name": "Python 3.6 - AzureML"
    },
    "language_info": {
      "name": "python",
      "version": "3.6.9",
      "mimetype": "text/x-python",
      "codemirror_mode": {
        "name": "ipython",
        "version": 3
      },
      "pygments_lexer": "ipython3",
      "nbconvert_exporter": "python",
      "file_extension": ".py"
    },
    "kernel_info": {
      "name": "python3-azureml"
    },
    "nteract": {
      "version": "nteract-front-end@1.0.0"
    },
    "microsoft": {
      "host": {
        "AzureML": {
          "notebookHasBeenCompleted": true
        }
      }
    }
  },
  "nbformat": 4,
  "nbformat_minor": 2
}